{
  "nbformat": 4,
  "nbformat_minor": 0,
  "metadata": {
    "accelerator": "GPU",
    "colab": {
      "name": "Q&A_Learning_Phrase_Representation_RNN_Encoder_Decoder.ipynb",
      "provenance": [],
      "collapsed_sections": [],
      "include_colab_link": true
    },
    "kernelspec": {
      "display_name": "Python 3",
      "name": "python3"
    }
  },
  "cells": [
    {
      "cell_type": "markdown",
      "metadata": {
        "id": "view-in-github",
        "colab_type": "text"
      },
      "source": [
        "<a href=\"https://colab.research.google.com/github/veeralakrishna/END/blob/main/Session%209/Q%26A_Learning_Phrase_Representation_RNN_Encoder_Decoder.ipynb\" target=\"_parent\"><img src=\"https://colab.research.google.com/assets/colab-badge.svg\" alt=\"Open In Colab\"/></a>"
      ]
    },
    {
      "cell_type": "markdown",
      "metadata": {
        "id": "-E3ohZBThuCx"
      },
      "source": [
        "[Question-and-answer dataset](http://www.cs.cmu.edu/~ark/QA-data/): This corpus includes Wikipedia articles, factual questions manually generated from them, and answers to these manually generated questions for use in academic research."
      ]
    },
    {
      "cell_type": "markdown",
      "metadata": {
        "id": "1C-PE8R83XdV"
      },
      "source": [
        "\r\n",
        "# Learning Phrase Representations using RNN Encoder-Decoder \r\n",
        "\r\n",
        "In this notebook on sequence-to-sequence models using PyTorch and TorchText, we'll be implementing the model from [Learning Phrase Representations using RNN Encoder-Decoder for Statistical Machine Translation](https://arxiv.org/abs/1406.1078). This model will achieve improved test perplexity whilst only using a single layer RNN in both the encoder and the decoder.\r\n",
        "\r\n",
        "## Introduction\r\n",
        "\r\n",
        "Let's remind ourselves of the general encoder-decoder model.\r\n",
        "\r\n",
        "![](https://github.com/bentrevett/pytorch-seq2seq/blob/master/assets/seq2seq1.png?raw=1)\r\n",
        "\r\n",
        "We use our encoder (green) over the embedded source sequence (yellow) to create a context vector (red). We then use that context vector with the decoder (blue) and a linear layer (purple) to generate the target sentence.\r\n",
        "\r\n",
        "In the previous model, we used an multi-layered LSTM as the encoder and decoder.\r\n",
        "\r\n",
        "![](https://github.com/bentrevett/pytorch-seq2seq/blob/master/assets/seq2seq4.png?raw=1)\r\n",
        "\r\n",
        "One downside of the previous model is that the decoder is trying to cram lots of information into the hidden states. Whilst decoding, the hidden state will need to contain information about the whole of the source sequence, as well as all of the tokens have been decoded so far. By alleviating some of this information compression, we can create a better model!\r\n",
        "\r\n",
        "We'll also be using a GRU (Gated Recurrent Unit) instead of an LSTM (Long Short-Term Memory). Why? Mainly because that's what they did in the paper (this paper also introduced GRUs) and also because we used LSTMs last time. To understand how GRUs (and LSTMs) differ from standard RNNS, check out [this](https://colah.github.io/posts/2015-08-Understanding-LSTMs/) link. Is a GRU better than an LSTM? [Research](https://arxiv.org/abs/1412.3555) has shown they're pretty much the same, and both are better than standard RNNs. \r\n",
        "\r\n",
        "## Preparing Data\r\n",
        "\r\n",
        "All of the data preparation will be (almost) the same as last time, so we'll very briefly detail what each code block does. See the previous notebook for a recap.\r\n",
        "\r\n",
        "We'll import PyTorch, TorchText, spaCy and a few standard modules."
      ]
    },
    {
      "cell_type": "markdown",
      "metadata": {
        "id": "9Bq0V0kXiJbw"
      },
      "source": [
        "### Load data from Kaggle"
      ]
    },
    {
      "cell_type": "code",
      "metadata": {
        "id": "31ckrzE5iBTy"
      },
      "source": [
        "# Run this cell and select the kaggle.json file downloaded\r\n",
        "# from the Kaggle account settings page.\r\n",
        "from google.colab import files\r\n",
        "files.upload()"
      ],
      "execution_count": null,
      "outputs": []
    },
    {
      "cell_type": "code",
      "metadata": {
        "colab": {
          "base_uri": "https://localhost:8080/"
        },
        "id": "2s1RQAORiBPN",
        "outputId": "624ed198-b92f-490e-f3e4-ac6066a4461b"
      },
      "source": [
        "# Let's make sure the kaggle.json file is present.\r\n",
        "!ls -lha kaggle.json"
      ],
      "execution_count": 2,
      "outputs": [
        {
          "output_type": "stream",
          "text": [
            "-rw-r--r-- 1 root root 70 Jan  4 13:40 kaggle.json\n"
          ],
          "name": "stdout"
        }
      ]
    },
    {
      "cell_type": "code",
      "metadata": {
        "id": "BW2NP0WTiBMu"
      },
      "source": [
        "# Next, install the Kaggle API client.\r\n",
        "!pip install -q kaggle"
      ],
      "execution_count": 3,
      "outputs": []
    },
    {
      "cell_type": "code",
      "metadata": {
        "id": "VWQUf8O6ibFa"
      },
      "source": [
        "# The Kaggle API client expects this file to be in ~/.kaggle,\r\n",
        "# so move it there.\r\n",
        "!mkdir -p ~/.kaggle\r\n",
        "!cp kaggle.json ~/.kaggle/\r\n",
        "\r\n",
        "# This permissions change avoids a warning on Kaggle tool startup.\r\n",
        "!chmod 600 ~/.kaggle/kaggle.json"
      ],
      "execution_count": 4,
      "outputs": []
    },
    {
      "cell_type": "code",
      "metadata": {
        "colab": {
          "base_uri": "https://localhost:8080/"
        },
        "id": "_a5Hy52iia8O",
        "outputId": "4dd23870-e8ca-4dd1-e03d-8ce9ae8afe82"
      },
      "source": [
        "# Copy the customer-support-on-twitter data set locally.\r\n",
        "!kaggle datasets download -d veeralakrishna/questionanswer-dataset"
      ],
      "execution_count": 5,
      "outputs": [
        {
          "output_type": "stream",
          "text": [
            "Downloading questionanswer-dataset.zip to /content\n",
            "\r  0% 0.00/8.70M [00:00<?, ?B/s]\r 57% 5.00M/8.70M [00:00<00:00, 30.5MB/s]\n",
            "\r100% 8.70M/8.70M [00:00<00:00, 42.5MB/s]\n"
          ],
          "name": "stdout"
        }
      ]
    },
    {
      "cell_type": "code",
      "metadata": {
        "colab": {
          "base_uri": "https://localhost:8080/"
        },
        "id": "UZ9PAeFhia4-",
        "outputId": "c7dac1c3-e08f-427d-fbce-9b752dc27912"
      },
      "source": [
        "# Check the directory\r\n",
        "!ls"
      ],
      "execution_count": 6,
      "outputs": [
        {
          "output_type": "stream",
          "text": [
            "kaggle.json  questionanswer-dataset.zip  sample_data\n"
          ],
          "name": "stdout"
        }
      ]
    },
    {
      "cell_type": "code",
      "metadata": {
        "colab": {
          "base_uri": "https://localhost:8080/"
        },
        "id": "QuHSB8bEiotF",
        "outputId": "009c07e0-b675-4bbd-f4f5-a5e5e1717f61"
      },
      "source": [
        "# Unzip the file\r\n",
        "!unzip questionanswer-dataset.zip"
      ],
      "execution_count": 7,
      "outputs": [
        {
          "output_type": "stream",
          "text": [
            "Archive:  questionanswer-dataset.zip\n",
            "  inflating: Question_Answer_Dataset_v1.2/LICENSE-S08,S09  \n",
            "  inflating: Question_Answer_Dataset_v1.2/README.v1.2  \n",
            "  inflating: Question_Answer_Dataset_v1.2/S08/data/set1/a1.htm  \n",
            "  inflating: Question_Answer_Dataset_v1.2/S08/data/set1/a1.txt  \n",
            "  inflating: Question_Answer_Dataset_v1.2/S08/data/set1/a1.txt.clean  \n",
            "  inflating: Question_Answer_Dataset_v1.2/S08/data/set1/a10.htm  \n",
            "  inflating: Question_Answer_Dataset_v1.2/S08/data/set1/a10.txt  \n",
            "  inflating: Question_Answer_Dataset_v1.2/S08/data/set1/a10.txt.clean  \n",
            "  inflating: Question_Answer_Dataset_v1.2/S08/data/set1/a10o.htm  \n",
            "  inflating: Question_Answer_Dataset_v1.2/S08/data/set1/a1o.htm  \n",
            "  inflating: Question_Answer_Dataset_v1.2/S08/data/set1/a2.htm  \n",
            "  inflating: Question_Answer_Dataset_v1.2/S08/data/set1/a2.txt  \n",
            "  inflating: Question_Answer_Dataset_v1.2/S08/data/set1/a2.txt.clean  \n",
            "  inflating: Question_Answer_Dataset_v1.2/S08/data/set1/a2o.htm  \n",
            "  inflating: Question_Answer_Dataset_v1.2/S08/data/set1/a3.htm  \n",
            "  inflating: Question_Answer_Dataset_v1.2/S08/data/set1/a3.txt  \n",
            "  inflating: Question_Answer_Dataset_v1.2/S08/data/set1/a3.txt.clean  \n",
            "  inflating: Question_Answer_Dataset_v1.2/S08/data/set1/a3o.htm  \n",
            "  inflating: Question_Answer_Dataset_v1.2/S08/data/set1/a4.htm  \n",
            "  inflating: Question_Answer_Dataset_v1.2/S08/data/set1/a4.txt  \n",
            "  inflating: Question_Answer_Dataset_v1.2/S08/data/set1/a4.txt.clean  \n",
            "  inflating: Question_Answer_Dataset_v1.2/S08/data/set1/a4o.htm  \n",
            "  inflating: Question_Answer_Dataset_v1.2/S08/data/set1/a5.htm  \n",
            "  inflating: Question_Answer_Dataset_v1.2/S08/data/set1/a5.txt  \n",
            "  inflating: Question_Answer_Dataset_v1.2/S08/data/set1/a5.txt.clean  \n",
            "  inflating: Question_Answer_Dataset_v1.2/S08/data/set1/a5o.htm  \n",
            "  inflating: Question_Answer_Dataset_v1.2/S08/data/set1/a6.htm  \n",
            "  inflating: Question_Answer_Dataset_v1.2/S08/data/set1/a6.txt  \n",
            "  inflating: Question_Answer_Dataset_v1.2/S08/data/set1/a6.txt.clean  \n",
            "  inflating: Question_Answer_Dataset_v1.2/S08/data/set1/a6o.htm  \n",
            "  inflating: Question_Answer_Dataset_v1.2/S08/data/set1/a7.htm  \n",
            "  inflating: Question_Answer_Dataset_v1.2/S08/data/set1/a7.txt  \n",
            "  inflating: Question_Answer_Dataset_v1.2/S08/data/set1/a7.txt.clean  \n",
            "  inflating: Question_Answer_Dataset_v1.2/S08/data/set1/a7o.htm  \n",
            "  inflating: Question_Answer_Dataset_v1.2/S08/data/set1/a8.htm  \n",
            "  inflating: Question_Answer_Dataset_v1.2/S08/data/set1/a8.txt  \n",
            "  inflating: Question_Answer_Dataset_v1.2/S08/data/set1/a8.txt.clean  \n",
            "  inflating: Question_Answer_Dataset_v1.2/S08/data/set1/a8o.htm  \n",
            "  inflating: Question_Answer_Dataset_v1.2/S08/data/set1/a9.htm  \n",
            "  inflating: Question_Answer_Dataset_v1.2/S08/data/set1/a9.txt  \n",
            "  inflating: Question_Answer_Dataset_v1.2/S08/data/set1/a9.txt.clean  \n",
            "  inflating: Question_Answer_Dataset_v1.2/S08/data/set1/a9o.htm  \n",
            "  inflating: Question_Answer_Dataset_v1.2/S08/data/set1/topics.txt  \n",
            "  inflating: Question_Answer_Dataset_v1.2/S08/data/set2/a1.htm  \n",
            "  inflating: Question_Answer_Dataset_v1.2/S08/data/set2/a1.txt  \n",
            "  inflating: Question_Answer_Dataset_v1.2/S08/data/set2/a1.txt.clean  \n",
            "  inflating: Question_Answer_Dataset_v1.2/S08/data/set2/a10.htm  \n",
            "  inflating: Question_Answer_Dataset_v1.2/S08/data/set2/a10.txt  \n",
            "  inflating: Question_Answer_Dataset_v1.2/S08/data/set2/a10.txt.clean  \n",
            "  inflating: Question_Answer_Dataset_v1.2/S08/data/set2/a10o.htm  \n",
            "  inflating: Question_Answer_Dataset_v1.2/S08/data/set2/a1o.htm  \n",
            "  inflating: Question_Answer_Dataset_v1.2/S08/data/set2/a2.htm  \n",
            "  inflating: Question_Answer_Dataset_v1.2/S08/data/set2/a2.txt  \n",
            "  inflating: Question_Answer_Dataset_v1.2/S08/data/set2/a2.txt.clean  \n",
            "  inflating: Question_Answer_Dataset_v1.2/S08/data/set2/a2o.htm  \n",
            "  inflating: Question_Answer_Dataset_v1.2/S08/data/set2/a3.htm  \n",
            "  inflating: Question_Answer_Dataset_v1.2/S08/data/set2/a3.txt  \n",
            "  inflating: Question_Answer_Dataset_v1.2/S08/data/set2/a3.txt.clean  \n",
            "  inflating: Question_Answer_Dataset_v1.2/S08/data/set2/a3o.htm  \n",
            "  inflating: Question_Answer_Dataset_v1.2/S08/data/set2/a4.htm  \n",
            "  inflating: Question_Answer_Dataset_v1.2/S08/data/set2/a4.txt  \n",
            "  inflating: Question_Answer_Dataset_v1.2/S08/data/set2/a4.txt.clean  \n",
            "  inflating: Question_Answer_Dataset_v1.2/S08/data/set2/a4o.htm  \n",
            "  inflating: Question_Answer_Dataset_v1.2/S08/data/set2/a5.htm  \n",
            "  inflating: Question_Answer_Dataset_v1.2/S08/data/set2/a5.txt  \n",
            "  inflating: Question_Answer_Dataset_v1.2/S08/data/set2/a5.txt.clean  \n",
            "  inflating: Question_Answer_Dataset_v1.2/S08/data/set2/a5o.htm  \n",
            "  inflating: Question_Answer_Dataset_v1.2/S08/data/set2/a6.htm  \n",
            "  inflating: Question_Answer_Dataset_v1.2/S08/data/set2/a6.txt  \n",
            "  inflating: Question_Answer_Dataset_v1.2/S08/data/set2/a6.txt.clean  \n",
            "  inflating: Question_Answer_Dataset_v1.2/S08/data/set2/a6o.htm  \n",
            "  inflating: Question_Answer_Dataset_v1.2/S08/data/set2/a7.htm  \n",
            "  inflating: Question_Answer_Dataset_v1.2/S08/data/set2/a7.txt  \n",
            "  inflating: Question_Answer_Dataset_v1.2/S08/data/set2/a7.txt.clean  \n",
            "  inflating: Question_Answer_Dataset_v1.2/S08/data/set2/a7o.htm  \n",
            "  inflating: Question_Answer_Dataset_v1.2/S08/data/set2/a8.htm  \n",
            "  inflating: Question_Answer_Dataset_v1.2/S08/data/set2/a8.txt  \n",
            "  inflating: Question_Answer_Dataset_v1.2/S08/data/set2/a8.txt.clean  \n",
            "  inflating: Question_Answer_Dataset_v1.2/S08/data/set2/a8o.htm  \n",
            "  inflating: Question_Answer_Dataset_v1.2/S08/data/set2/a9.htm  \n",
            "  inflating: Question_Answer_Dataset_v1.2/S08/data/set2/a9.txt  \n",
            "  inflating: Question_Answer_Dataset_v1.2/S08/data/set2/a9.txt.clean  \n",
            "  inflating: Question_Answer_Dataset_v1.2/S08/data/set2/a9o.htm  \n",
            "  inflating: Question_Answer_Dataset_v1.2/S08/data/set2/topics.txt  \n",
            "  inflating: Question_Answer_Dataset_v1.2/S08/data/set3/a1.htm  \n",
            "  inflating: Question_Answer_Dataset_v1.2/S08/data/set3/a1.txt  \n",
            "  inflating: Question_Answer_Dataset_v1.2/S08/data/set3/a1.txt.clean  \n",
            "  inflating: Question_Answer_Dataset_v1.2/S08/data/set3/a10.htm  \n",
            "  inflating: Question_Answer_Dataset_v1.2/S08/data/set3/a10.txt  \n",
            "  inflating: Question_Answer_Dataset_v1.2/S08/data/set3/a10.txt.clean  \n",
            "  inflating: Question_Answer_Dataset_v1.2/S08/data/set3/a10o.htm  \n",
            "  inflating: Question_Answer_Dataset_v1.2/S08/data/set3/a1o.htm  \n",
            "  inflating: Question_Answer_Dataset_v1.2/S08/data/set3/a2.htm  \n",
            "  inflating: Question_Answer_Dataset_v1.2/S08/data/set3/a2.txt  \n",
            "  inflating: Question_Answer_Dataset_v1.2/S08/data/set3/a2.txt.clean  \n",
            "  inflating: Question_Answer_Dataset_v1.2/S08/data/set3/a2o.htm  \n",
            "  inflating: Question_Answer_Dataset_v1.2/S08/data/set3/a3.htm  \n",
            "  inflating: Question_Answer_Dataset_v1.2/S08/data/set3/a3.txt  \n",
            "  inflating: Question_Answer_Dataset_v1.2/S08/data/set3/a3.txt.clean  \n",
            "  inflating: Question_Answer_Dataset_v1.2/S08/data/set3/a3o.htm  \n",
            "  inflating: Question_Answer_Dataset_v1.2/S08/data/set3/a4.htm  \n",
            "  inflating: Question_Answer_Dataset_v1.2/S08/data/set3/a4.txt  \n",
            "  inflating: Question_Answer_Dataset_v1.2/S08/data/set3/a4.txt.clean  \n",
            "  inflating: Question_Answer_Dataset_v1.2/S08/data/set3/a4o.htm  \n",
            "  inflating: Question_Answer_Dataset_v1.2/S08/data/set3/a5.htm  \n",
            "  inflating: Question_Answer_Dataset_v1.2/S08/data/set3/a5.txt  \n",
            "  inflating: Question_Answer_Dataset_v1.2/S08/data/set3/a5.txt.clean  \n",
            "  inflating: Question_Answer_Dataset_v1.2/S08/data/set3/a5o.htm  \n",
            "  inflating: Question_Answer_Dataset_v1.2/S08/data/set3/a6.htm  \n",
            "  inflating: Question_Answer_Dataset_v1.2/S08/data/set3/a6.txt  \n",
            "  inflating: Question_Answer_Dataset_v1.2/S08/data/set3/a6.txt.clean  \n",
            "  inflating: Question_Answer_Dataset_v1.2/S08/data/set3/a6o.htm  \n",
            "  inflating: Question_Answer_Dataset_v1.2/S08/data/set3/a7.htm  \n",
            "  inflating: Question_Answer_Dataset_v1.2/S08/data/set3/a7.txt  \n",
            "  inflating: Question_Answer_Dataset_v1.2/S08/data/set3/a7.txt.clean  \n",
            "  inflating: Question_Answer_Dataset_v1.2/S08/data/set3/a7o.htm  \n",
            "  inflating: Question_Answer_Dataset_v1.2/S08/data/set3/a8.htm  \n",
            "  inflating: Question_Answer_Dataset_v1.2/S08/data/set3/a8.txt  \n",
            "  inflating: Question_Answer_Dataset_v1.2/S08/data/set3/a8.txt.clean  \n",
            "  inflating: Question_Answer_Dataset_v1.2/S08/data/set3/a8o.htm  \n",
            "  inflating: Question_Answer_Dataset_v1.2/S08/data/set3/a9.htm  \n",
            "  inflating: Question_Answer_Dataset_v1.2/S08/data/set3/a9.txt  \n",
            "  inflating: Question_Answer_Dataset_v1.2/S08/data/set3/a9.txt.clean  \n",
            "  inflating: Question_Answer_Dataset_v1.2/S08/data/set3/a9o.htm  \n",
            "  inflating: Question_Answer_Dataset_v1.2/S08/data/set3/topics.txt  \n",
            "  inflating: Question_Answer_Dataset_v1.2/S08/data/set4/a1.htm  \n",
            "  inflating: Question_Answer_Dataset_v1.2/S08/data/set4/a1.txt  \n",
            "  inflating: Question_Answer_Dataset_v1.2/S08/data/set4/a1.txt.clean  \n",
            "  inflating: Question_Answer_Dataset_v1.2/S08/data/set4/a10.htm  \n",
            "  inflating: Question_Answer_Dataset_v1.2/S08/data/set4/a10.txt  \n",
            "  inflating: Question_Answer_Dataset_v1.2/S08/data/set4/a10.txt.clean  \n",
            "  inflating: Question_Answer_Dataset_v1.2/S08/data/set4/a10o.htm  \n",
            "  inflating: Question_Answer_Dataset_v1.2/S08/data/set4/a1o.htm  \n",
            "  inflating: Question_Answer_Dataset_v1.2/S08/data/set4/a2.htm  \n",
            "  inflating: Question_Answer_Dataset_v1.2/S08/data/set4/a2.txt  \n",
            "  inflating: Question_Answer_Dataset_v1.2/S08/data/set4/a2.txt.clean  \n",
            "  inflating: Question_Answer_Dataset_v1.2/S08/data/set4/a2o.htm  \n",
            "  inflating: Question_Answer_Dataset_v1.2/S08/data/set4/a3.htm  \n",
            "  inflating: Question_Answer_Dataset_v1.2/S08/data/set4/a3.txt  \n",
            "  inflating: Question_Answer_Dataset_v1.2/S08/data/set4/a3.txt.clean  \n",
            "  inflating: Question_Answer_Dataset_v1.2/S08/data/set4/a3o.htm  \n",
            "  inflating: Question_Answer_Dataset_v1.2/S08/data/set4/a4.htm  \n",
            "  inflating: Question_Answer_Dataset_v1.2/S08/data/set4/a4.txt  \n",
            "  inflating: Question_Answer_Dataset_v1.2/S08/data/set4/a4.txt.clean  \n",
            "  inflating: Question_Answer_Dataset_v1.2/S08/data/set4/a4o.htm  \n",
            "  inflating: Question_Answer_Dataset_v1.2/S08/data/set4/a5.htm  \n",
            "  inflating: Question_Answer_Dataset_v1.2/S08/data/set4/a5.txt  \n",
            "  inflating: Question_Answer_Dataset_v1.2/S08/data/set4/a5.txt.clean  \n",
            "  inflating: Question_Answer_Dataset_v1.2/S08/data/set4/a5o.htm  \n",
            "  inflating: Question_Answer_Dataset_v1.2/S08/data/set4/a6.htm  \n",
            "  inflating: Question_Answer_Dataset_v1.2/S08/data/set4/a6.txt  \n",
            "  inflating: Question_Answer_Dataset_v1.2/S08/data/set4/a6.txt.clean  \n",
            "  inflating: Question_Answer_Dataset_v1.2/S08/data/set4/a6o.htm  \n",
            "  inflating: Question_Answer_Dataset_v1.2/S08/data/set4/a7.htm  \n",
            "  inflating: Question_Answer_Dataset_v1.2/S08/data/set4/a7.txt  \n",
            "  inflating: Question_Answer_Dataset_v1.2/S08/data/set4/a7.txt.clean  \n",
            "  inflating: Question_Answer_Dataset_v1.2/S08/data/set4/a7o.htm  \n",
            "  inflating: Question_Answer_Dataset_v1.2/S08/data/set4/a8.htm  \n",
            "  inflating: Question_Answer_Dataset_v1.2/S08/data/set4/a8.txt  \n",
            "  inflating: Question_Answer_Dataset_v1.2/S08/data/set4/a8.txt.clean  \n",
            "  inflating: Question_Answer_Dataset_v1.2/S08/data/set4/a8o.htm  \n",
            "  inflating: Question_Answer_Dataset_v1.2/S08/data/set4/a9.htm  \n",
            "  inflating: Question_Answer_Dataset_v1.2/S08/data/set4/a9.txt  \n",
            "  inflating: Question_Answer_Dataset_v1.2/S08/data/set4/a9.txt.clean  \n",
            "  inflating: Question_Answer_Dataset_v1.2/S08/data/set4/a9o.htm  \n",
            "  inflating: Question_Answer_Dataset_v1.2/S08/data/set4/topics.txt  \n",
            "  inflating: Question_Answer_Dataset_v1.2/S08/question_answer_pairs.txt  \n",
            "  inflating: Question_Answer_Dataset_v1.2/S09/data/set1/a1.htm  \n",
            "  inflating: Question_Answer_Dataset_v1.2/S09/data/set1/a1.txt  \n",
            "  inflating: Question_Answer_Dataset_v1.2/S09/data/set1/a1.txt.clean  \n",
            "  inflating: Question_Answer_Dataset_v1.2/S09/data/set1/a10.htm  \n",
            "  inflating: Question_Answer_Dataset_v1.2/S09/data/set1/a10.txt  \n",
            "  inflating: Question_Answer_Dataset_v1.2/S09/data/set1/a10.txt.clean  \n",
            "  inflating: Question_Answer_Dataset_v1.2/S09/data/set1/a10o.htm  \n",
            "  inflating: Question_Answer_Dataset_v1.2/S09/data/set1/a1o.htm  \n",
            "  inflating: Question_Answer_Dataset_v1.2/S09/data/set1/a2.htm  \n",
            "  inflating: Question_Answer_Dataset_v1.2/S09/data/set1/a2.txt  \n",
            "  inflating: Question_Answer_Dataset_v1.2/S09/data/set1/a2.txt.clean  \n",
            "  inflating: Question_Answer_Dataset_v1.2/S09/data/set1/a2o.htm  \n",
            "  inflating: Question_Answer_Dataset_v1.2/S09/data/set1/a3.htm  \n",
            "  inflating: Question_Answer_Dataset_v1.2/S09/data/set1/a3.txt  \n",
            "  inflating: Question_Answer_Dataset_v1.2/S09/data/set1/a3.txt.clean  \n",
            "  inflating: Question_Answer_Dataset_v1.2/S09/data/set1/a3o.htm  \n",
            "  inflating: Question_Answer_Dataset_v1.2/S09/data/set1/a4.htm  \n",
            "  inflating: Question_Answer_Dataset_v1.2/S09/data/set1/a4.txt  \n",
            "  inflating: Question_Answer_Dataset_v1.2/S09/data/set1/a4.txt.clean  \n",
            "  inflating: Question_Answer_Dataset_v1.2/S09/data/set1/a4o.htm  \n",
            "  inflating: Question_Answer_Dataset_v1.2/S09/data/set1/a5.htm  \n",
            "  inflating: Question_Answer_Dataset_v1.2/S09/data/set1/a5.txt  \n",
            "  inflating: Question_Answer_Dataset_v1.2/S09/data/set1/a5.txt.clean  \n",
            "  inflating: Question_Answer_Dataset_v1.2/S09/data/set1/a5o.htm  \n",
            "  inflating: Question_Answer_Dataset_v1.2/S09/data/set1/a6.htm  \n",
            "  inflating: Question_Answer_Dataset_v1.2/S09/data/set1/a6.txt  \n",
            "  inflating: Question_Answer_Dataset_v1.2/S09/data/set1/a6.txt.clean  \n",
            "  inflating: Question_Answer_Dataset_v1.2/S09/data/set1/a6o.htm  \n",
            "  inflating: Question_Answer_Dataset_v1.2/S09/data/set1/a7.htm  \n",
            "  inflating: Question_Answer_Dataset_v1.2/S09/data/set1/a7.txt  \n",
            "  inflating: Question_Answer_Dataset_v1.2/S09/data/set1/a7.txt.clean  \n",
            "  inflating: Question_Answer_Dataset_v1.2/S09/data/set1/a7o.htm  \n",
            "  inflating: Question_Answer_Dataset_v1.2/S09/data/set1/a8.htm  \n",
            "  inflating: Question_Answer_Dataset_v1.2/S09/data/set1/a8.txt  \n",
            "  inflating: Question_Answer_Dataset_v1.2/S09/data/set1/a8.txt.clean  \n",
            "  inflating: Question_Answer_Dataset_v1.2/S09/data/set1/a8o.htm  \n",
            "  inflating: Question_Answer_Dataset_v1.2/S09/data/set1/a9.htm  \n",
            "  inflating: Question_Answer_Dataset_v1.2/S09/data/set1/a9.txt  \n",
            "  inflating: Question_Answer_Dataset_v1.2/S09/data/set1/a9.txt.clean  \n",
            "  inflating: Question_Answer_Dataset_v1.2/S09/data/set1/a9o.htm  \n",
            "  inflating: Question_Answer_Dataset_v1.2/S09/data/set1/topics.txt  \n",
            "  inflating: Question_Answer_Dataset_v1.2/S09/data/set2/a1.htm  \n",
            "  inflating: Question_Answer_Dataset_v1.2/S09/data/set2/a1.txt  \n",
            "  inflating: Question_Answer_Dataset_v1.2/S09/data/set2/a1.txt.clean  \n",
            "  inflating: Question_Answer_Dataset_v1.2/S09/data/set2/a10.htm  \n",
            "  inflating: Question_Answer_Dataset_v1.2/S09/data/set2/a10.txt  \n",
            "  inflating: Question_Answer_Dataset_v1.2/S09/data/set2/a10.txt.clean  \n",
            "  inflating: Question_Answer_Dataset_v1.2/S09/data/set2/a10o.htm  \n",
            "  inflating: Question_Answer_Dataset_v1.2/S09/data/set2/a1o.htm  \n",
            "  inflating: Question_Answer_Dataset_v1.2/S09/data/set2/a2.htm  \n",
            "  inflating: Question_Answer_Dataset_v1.2/S09/data/set2/a2.txt  \n",
            "  inflating: Question_Answer_Dataset_v1.2/S09/data/set2/a2.txt.clean  \n",
            "  inflating: Question_Answer_Dataset_v1.2/S09/data/set2/a2o.htm  \n",
            "  inflating: Question_Answer_Dataset_v1.2/S09/data/set2/a3.htm  \n",
            "  inflating: Question_Answer_Dataset_v1.2/S09/data/set2/a3.txt  \n",
            "  inflating: Question_Answer_Dataset_v1.2/S09/data/set2/a3.txt.clean  \n",
            "  inflating: Question_Answer_Dataset_v1.2/S09/data/set2/a3o.htm  \n",
            "  inflating: Question_Answer_Dataset_v1.2/S09/data/set2/a4.htm  \n",
            "  inflating: Question_Answer_Dataset_v1.2/S09/data/set2/a4.txt  \n",
            "  inflating: Question_Answer_Dataset_v1.2/S09/data/set2/a4.txt.clean  \n",
            "  inflating: Question_Answer_Dataset_v1.2/S09/data/set2/a4o.htm  \n",
            "  inflating: Question_Answer_Dataset_v1.2/S09/data/set2/a5.htm  \n",
            "  inflating: Question_Answer_Dataset_v1.2/S09/data/set2/a5.txt  \n",
            "  inflating: Question_Answer_Dataset_v1.2/S09/data/set2/a5.txt.clean  \n",
            "  inflating: Question_Answer_Dataset_v1.2/S09/data/set2/a5o.htm  \n",
            "  inflating: Question_Answer_Dataset_v1.2/S09/data/set2/a6.htm  \n",
            "  inflating: Question_Answer_Dataset_v1.2/S09/data/set2/a6.txt  \n",
            "  inflating: Question_Answer_Dataset_v1.2/S09/data/set2/a6.txt.clean  \n",
            "  inflating: Question_Answer_Dataset_v1.2/S09/data/set2/a6o.htm  \n",
            "  inflating: Question_Answer_Dataset_v1.2/S09/data/set2/a7.htm  \n",
            "  inflating: Question_Answer_Dataset_v1.2/S09/data/set2/a7.txt  \n",
            "  inflating: Question_Answer_Dataset_v1.2/S09/data/set2/a7.txt.clean  \n",
            "  inflating: Question_Answer_Dataset_v1.2/S09/data/set2/a7o.htm  \n",
            "  inflating: Question_Answer_Dataset_v1.2/S09/data/set2/a8.htm  \n",
            "  inflating: Question_Answer_Dataset_v1.2/S09/data/set2/a8.txt  \n",
            "  inflating: Question_Answer_Dataset_v1.2/S09/data/set2/a8.txt.clean  \n",
            "  inflating: Question_Answer_Dataset_v1.2/S09/data/set2/a8o.htm  \n",
            "  inflating: Question_Answer_Dataset_v1.2/S09/data/set2/a9.htm  \n",
            "  inflating: Question_Answer_Dataset_v1.2/S09/data/set2/a9.txt  \n",
            "  inflating: Question_Answer_Dataset_v1.2/S09/data/set2/a9.txt.clean  \n",
            "  inflating: Question_Answer_Dataset_v1.2/S09/data/set2/a9o.htm  \n",
            "  inflating: Question_Answer_Dataset_v1.2/S09/data/set2/topics.txt  \n",
            "  inflating: Question_Answer_Dataset_v1.2/S09/data/set3/a1.htm  \n",
            "  inflating: Question_Answer_Dataset_v1.2/S09/data/set3/a1.txt  \n",
            "  inflating: Question_Answer_Dataset_v1.2/S09/data/set3/a1.txt.clean  \n",
            "  inflating: Question_Answer_Dataset_v1.2/S09/data/set3/a10.htm  \n",
            "  inflating: Question_Answer_Dataset_v1.2/S09/data/set3/a10.txt  \n",
            "  inflating: Question_Answer_Dataset_v1.2/S09/data/set3/a10.txt.clean  \n",
            "  inflating: Question_Answer_Dataset_v1.2/S09/data/set3/a10o.htm  \n",
            "  inflating: Question_Answer_Dataset_v1.2/S09/data/set3/a1o.htm  \n",
            "  inflating: Question_Answer_Dataset_v1.2/S09/data/set3/a2.htm  \n",
            "  inflating: Question_Answer_Dataset_v1.2/S09/data/set3/a2.txt  \n",
            "  inflating: Question_Answer_Dataset_v1.2/S09/data/set3/a2.txt.clean  \n",
            "  inflating: Question_Answer_Dataset_v1.2/S09/data/set3/a2o.htm  \n",
            "  inflating: Question_Answer_Dataset_v1.2/S09/data/set3/a3.htm  \n",
            "  inflating: Question_Answer_Dataset_v1.2/S09/data/set3/a3.txt  \n",
            "  inflating: Question_Answer_Dataset_v1.2/S09/data/set3/a3.txt.clean  \n",
            "  inflating: Question_Answer_Dataset_v1.2/S09/data/set3/a3o.htm  \n",
            "  inflating: Question_Answer_Dataset_v1.2/S09/data/set3/a4.htm  \n",
            "  inflating: Question_Answer_Dataset_v1.2/S09/data/set3/a4.txt  \n",
            "  inflating: Question_Answer_Dataset_v1.2/S09/data/set3/a4.txt.clean  \n",
            "  inflating: Question_Answer_Dataset_v1.2/S09/data/set3/a4o.htm  \n",
            "  inflating: Question_Answer_Dataset_v1.2/S09/data/set3/a5.htm  \n",
            "  inflating: Question_Answer_Dataset_v1.2/S09/data/set3/a5.txt  \n",
            "  inflating: Question_Answer_Dataset_v1.2/S09/data/set3/a5.txt.clean  \n",
            "  inflating: Question_Answer_Dataset_v1.2/S09/data/set3/a5o.htm  \n",
            "  inflating: Question_Answer_Dataset_v1.2/S09/data/set3/a6.htm  \n",
            "  inflating: Question_Answer_Dataset_v1.2/S09/data/set3/a6.txt  \n",
            "  inflating: Question_Answer_Dataset_v1.2/S09/data/set3/a6.txt.clean  \n",
            "  inflating: Question_Answer_Dataset_v1.2/S09/data/set3/a6o.htm  \n",
            "  inflating: Question_Answer_Dataset_v1.2/S09/data/set3/a7.htm  \n",
            "  inflating: Question_Answer_Dataset_v1.2/S09/data/set3/a7.txt  \n",
            "  inflating: Question_Answer_Dataset_v1.2/S09/data/set3/a7.txt.clean  \n",
            "  inflating: Question_Answer_Dataset_v1.2/S09/data/set3/a7o.htm  \n",
            "  inflating: Question_Answer_Dataset_v1.2/S09/data/set3/a8.htm  \n",
            "  inflating: Question_Answer_Dataset_v1.2/S09/data/set3/a8.txt  \n",
            "  inflating: Question_Answer_Dataset_v1.2/S09/data/set3/a8.txt.clean  \n",
            "  inflating: Question_Answer_Dataset_v1.2/S09/data/set3/a8o.htm  \n",
            "  inflating: Question_Answer_Dataset_v1.2/S09/data/set3/a9.htm  \n",
            "  inflating: Question_Answer_Dataset_v1.2/S09/data/set3/a9.txt  \n",
            "  inflating: Question_Answer_Dataset_v1.2/S09/data/set3/a9.txt.clean  \n",
            "  inflating: Question_Answer_Dataset_v1.2/S09/data/set3/a9o.htm  \n",
            "  inflating: Question_Answer_Dataset_v1.2/S09/data/set3/topics.txt  \n",
            "  inflating: Question_Answer_Dataset_v1.2/S09/data/set4/a1.htm  \n",
            "  inflating: Question_Answer_Dataset_v1.2/S09/data/set4/a1.txt  \n",
            "  inflating: Question_Answer_Dataset_v1.2/S09/data/set4/a1.txt.clean  \n",
            "  inflating: Question_Answer_Dataset_v1.2/S09/data/set4/a10.htm  \n",
            "  inflating: Question_Answer_Dataset_v1.2/S09/data/set4/a10.txt  \n",
            "  inflating: Question_Answer_Dataset_v1.2/S09/data/set4/a10.txt.clean  \n",
            "  inflating: Question_Answer_Dataset_v1.2/S09/data/set4/a10o.htm  \n",
            "  inflating: Question_Answer_Dataset_v1.2/S09/data/set4/a1o.htm  \n",
            "  inflating: Question_Answer_Dataset_v1.2/S09/data/set4/a2.htm  \n",
            "  inflating: Question_Answer_Dataset_v1.2/S09/data/set4/a2.txt  \n",
            "  inflating: Question_Answer_Dataset_v1.2/S09/data/set4/a2.txt.clean  \n",
            "  inflating: Question_Answer_Dataset_v1.2/S09/data/set4/a2o.htm  \n",
            "  inflating: Question_Answer_Dataset_v1.2/S09/data/set4/a3.htm  \n",
            "  inflating: Question_Answer_Dataset_v1.2/S09/data/set4/a3.txt  \n",
            "  inflating: Question_Answer_Dataset_v1.2/S09/data/set4/a3.txt.clean  \n",
            "  inflating: Question_Answer_Dataset_v1.2/S09/data/set4/a3o.htm  \n",
            "  inflating: Question_Answer_Dataset_v1.2/S09/data/set4/a4.htm  \n",
            "  inflating: Question_Answer_Dataset_v1.2/S09/data/set4/a4.txt  \n",
            "  inflating: Question_Answer_Dataset_v1.2/S09/data/set4/a4.txt.clean  \n",
            "  inflating: Question_Answer_Dataset_v1.2/S09/data/set4/a4o.htm  \n",
            "  inflating: Question_Answer_Dataset_v1.2/S09/data/set4/a5.htm  \n",
            "  inflating: Question_Answer_Dataset_v1.2/S09/data/set4/a5.txt  \n",
            "  inflating: Question_Answer_Dataset_v1.2/S09/data/set4/a5.txt.clean  \n",
            "  inflating: Question_Answer_Dataset_v1.2/S09/data/set4/a5o.htm  \n",
            "  inflating: Question_Answer_Dataset_v1.2/S09/data/set4/a6.htm  \n",
            "  inflating: Question_Answer_Dataset_v1.2/S09/data/set4/a6.txt  \n",
            "  inflating: Question_Answer_Dataset_v1.2/S09/data/set4/a6.txt.clean  \n",
            "  inflating: Question_Answer_Dataset_v1.2/S09/data/set4/a6o.htm  \n",
            "  inflating: Question_Answer_Dataset_v1.2/S09/data/set4/a7.htm  \n",
            "  inflating: Question_Answer_Dataset_v1.2/S09/data/set4/a7.txt  \n",
            "  inflating: Question_Answer_Dataset_v1.2/S09/data/set4/a7.txt.clean  \n",
            "  inflating: Question_Answer_Dataset_v1.2/S09/data/set4/a7o.htm  \n",
            "  inflating: Question_Answer_Dataset_v1.2/S09/data/set4/a8.htm  \n",
            "  inflating: Question_Answer_Dataset_v1.2/S09/data/set4/a8.txt  \n",
            "  inflating: Question_Answer_Dataset_v1.2/S09/data/set4/a8.txt.clean  \n",
            "  inflating: Question_Answer_Dataset_v1.2/S09/data/set4/a8o.htm  \n",
            "  inflating: Question_Answer_Dataset_v1.2/S09/data/set4/a9.htm  \n",
            "  inflating: Question_Answer_Dataset_v1.2/S09/data/set4/a9.txt  \n",
            "  inflating: Question_Answer_Dataset_v1.2/S09/data/set4/a9.txt.clean  \n",
            "  inflating: Question_Answer_Dataset_v1.2/S09/data/set4/a9o.htm  \n",
            "  inflating: Question_Answer_Dataset_v1.2/S09/data/set4/topics.txt  \n",
            "  inflating: Question_Answer_Dataset_v1.2/S09/data/set5/a1.htm  \n",
            "  inflating: Question_Answer_Dataset_v1.2/S09/data/set5/a1.txt  \n",
            "  inflating: Question_Answer_Dataset_v1.2/S09/data/set5/a1.txt.clean  \n",
            "  inflating: Question_Answer_Dataset_v1.2/S09/data/set5/a10.htm  \n",
            "  inflating: Question_Answer_Dataset_v1.2/S09/data/set5/a10.txt  \n",
            "  inflating: Question_Answer_Dataset_v1.2/S09/data/set5/a10.txt.clean  \n",
            "  inflating: Question_Answer_Dataset_v1.2/S09/data/set5/a10o.htm  \n",
            "  inflating: Question_Answer_Dataset_v1.2/S09/data/set5/a1o.htm  \n",
            "  inflating: Question_Answer_Dataset_v1.2/S09/data/set5/a2.htm  \n",
            "  inflating: Question_Answer_Dataset_v1.2/S09/data/set5/a2.txt  \n",
            "  inflating: Question_Answer_Dataset_v1.2/S09/data/set5/a2.txt.clean  \n",
            "  inflating: Question_Answer_Dataset_v1.2/S09/data/set5/a2o.htm  \n",
            "  inflating: Question_Answer_Dataset_v1.2/S09/data/set5/a3.htm  \n",
            "  inflating: Question_Answer_Dataset_v1.2/S09/data/set5/a3.txt  \n",
            "  inflating: Question_Answer_Dataset_v1.2/S09/data/set5/a3.txt.clean  \n",
            "  inflating: Question_Answer_Dataset_v1.2/S09/data/set5/a3o.htm  \n",
            "  inflating: Question_Answer_Dataset_v1.2/S09/data/set5/a4.htm  \n",
            "  inflating: Question_Answer_Dataset_v1.2/S09/data/set5/a4.txt  \n",
            "  inflating: Question_Answer_Dataset_v1.2/S09/data/set5/a4.txt.clean  \n",
            "  inflating: Question_Answer_Dataset_v1.2/S09/data/set5/a4o.htm  \n",
            "  inflating: Question_Answer_Dataset_v1.2/S09/data/set5/a5.htm  \n",
            "  inflating: Question_Answer_Dataset_v1.2/S09/data/set5/a5.txt  \n",
            "  inflating: Question_Answer_Dataset_v1.2/S09/data/set5/a5.txt.clean  \n",
            "  inflating: Question_Answer_Dataset_v1.2/S09/data/set5/a5o.htm  \n",
            "  inflating: Question_Answer_Dataset_v1.2/S09/data/set5/a6.htm  \n",
            "  inflating: Question_Answer_Dataset_v1.2/S09/data/set5/a6.txt  \n",
            "  inflating: Question_Answer_Dataset_v1.2/S09/data/set5/a6.txt.clean  \n",
            "  inflating: Question_Answer_Dataset_v1.2/S09/data/set5/a6o.htm  \n",
            "  inflating: Question_Answer_Dataset_v1.2/S09/data/set5/a7.htm  \n",
            "  inflating: Question_Answer_Dataset_v1.2/S09/data/set5/a7.txt  \n",
            "  inflating: Question_Answer_Dataset_v1.2/S09/data/set5/a7.txt.clean  \n",
            "  inflating: Question_Answer_Dataset_v1.2/S09/data/set5/a7o.htm  \n",
            "  inflating: Question_Answer_Dataset_v1.2/S09/data/set5/a8.htm  \n",
            "  inflating: Question_Answer_Dataset_v1.2/S09/data/set5/a8.txt  \n",
            "  inflating: Question_Answer_Dataset_v1.2/S09/data/set5/a8.txt.clean  \n",
            "  inflating: Question_Answer_Dataset_v1.2/S09/data/set5/a8o.htm  \n",
            "  inflating: Question_Answer_Dataset_v1.2/S09/data/set5/a9.htm  \n",
            "  inflating: Question_Answer_Dataset_v1.2/S09/data/set5/a9.txt  \n",
            "  inflating: Question_Answer_Dataset_v1.2/S09/data/set5/a9.txt.clean  \n",
            "  inflating: Question_Answer_Dataset_v1.2/S09/data/set5/a9o.htm  \n",
            "  inflating: Question_Answer_Dataset_v1.2/S09/data/set5/topics.txt  \n",
            "  inflating: Question_Answer_Dataset_v1.2/S09/question_answer_pairs.txt  \n",
            "  inflating: Question_Answer_Dataset_v1.2/S10/data/set1/a1.htm  \n",
            "  inflating: Question_Answer_Dataset_v1.2/S10/data/set1/a1.txt  \n",
            "  inflating: Question_Answer_Dataset_v1.2/S10/data/set1/a1.txt.clean  \n",
            "  inflating: Question_Answer_Dataset_v1.2/S10/data/set1/a10.htm  \n",
            "  inflating: Question_Answer_Dataset_v1.2/S10/data/set1/a10.txt  \n",
            "  inflating: Question_Answer_Dataset_v1.2/S10/data/set1/a10.txt.clean  \n",
            "  inflating: Question_Answer_Dataset_v1.2/S10/data/set1/a10o.htm  \n",
            "  inflating: Question_Answer_Dataset_v1.2/S10/data/set1/a1o.htm  \n",
            "  inflating: Question_Answer_Dataset_v1.2/S10/data/set1/a2.htm  \n",
            "  inflating: Question_Answer_Dataset_v1.2/S10/data/set1/a2.txt  \n",
            "  inflating: Question_Answer_Dataset_v1.2/S10/data/set1/a2.txt.clean  \n",
            "  inflating: Question_Answer_Dataset_v1.2/S10/data/set1/a2o.htm  \n",
            "  inflating: Question_Answer_Dataset_v1.2/S10/data/set1/a3.htm  \n",
            "  inflating: Question_Answer_Dataset_v1.2/S10/data/set1/a3.txt  \n",
            "  inflating: Question_Answer_Dataset_v1.2/S10/data/set1/a3.txt.clean  \n",
            "  inflating: Question_Answer_Dataset_v1.2/S10/data/set1/a3o.htm  \n",
            "  inflating: Question_Answer_Dataset_v1.2/S10/data/set1/a4.htm  \n",
            "  inflating: Question_Answer_Dataset_v1.2/S10/data/set1/a4.txt  \n",
            "  inflating: Question_Answer_Dataset_v1.2/S10/data/set1/a4.txt.clean  \n",
            "  inflating: Question_Answer_Dataset_v1.2/S10/data/set1/a4o.htm  \n",
            "  inflating: Question_Answer_Dataset_v1.2/S10/data/set1/a5.htm  \n",
            "  inflating: Question_Answer_Dataset_v1.2/S10/data/set1/a5.txt  \n",
            "  inflating: Question_Answer_Dataset_v1.2/S10/data/set1/a5.txt.clean  \n",
            "  inflating: Question_Answer_Dataset_v1.2/S10/data/set1/a5o.htm  \n",
            "  inflating: Question_Answer_Dataset_v1.2/S10/data/set1/a6.htm  \n",
            "  inflating: Question_Answer_Dataset_v1.2/S10/data/set1/a6.txt  \n",
            "  inflating: Question_Answer_Dataset_v1.2/S10/data/set1/a6.txt.clean  \n",
            "  inflating: Question_Answer_Dataset_v1.2/S10/data/set1/a6o.htm  \n",
            "  inflating: Question_Answer_Dataset_v1.2/S10/data/set1/a7.htm  \n",
            "  inflating: Question_Answer_Dataset_v1.2/S10/data/set1/a7.txt  \n",
            "  inflating: Question_Answer_Dataset_v1.2/S10/data/set1/a7.txt.clean  \n",
            "  inflating: Question_Answer_Dataset_v1.2/S10/data/set1/a7o.htm  \n",
            "  inflating: Question_Answer_Dataset_v1.2/S10/data/set1/a8.htm  \n",
            "  inflating: Question_Answer_Dataset_v1.2/S10/data/set1/a8.txt  \n",
            "  inflating: Question_Answer_Dataset_v1.2/S10/data/set1/a8.txt.clean  \n",
            "  inflating: Question_Answer_Dataset_v1.2/S10/data/set1/a8o.htm  \n",
            "  inflating: Question_Answer_Dataset_v1.2/S10/data/set1/a9.htm  \n",
            "  inflating: Question_Answer_Dataset_v1.2/S10/data/set1/a9.txt  \n",
            "  inflating: Question_Answer_Dataset_v1.2/S10/data/set1/a9.txt.clean  \n",
            "  inflating: Question_Answer_Dataset_v1.2/S10/data/set1/a9o.htm  \n",
            "  inflating: Question_Answer_Dataset_v1.2/S10/data/set1/topics.txt  \n",
            "  inflating: Question_Answer_Dataset_v1.2/S10/data/set2/a1.htm  \n",
            "  inflating: Question_Answer_Dataset_v1.2/S10/data/set2/a1.txt  \n",
            "  inflating: Question_Answer_Dataset_v1.2/S10/data/set2/a1.txt.clean  \n",
            "  inflating: Question_Answer_Dataset_v1.2/S10/data/set2/a10.htm  \n",
            "  inflating: Question_Answer_Dataset_v1.2/S10/data/set2/a10.txt  \n",
            "  inflating: Question_Answer_Dataset_v1.2/S10/data/set2/a10.txt.clean  \n",
            "  inflating: Question_Answer_Dataset_v1.2/S10/data/set2/a10o.htm  \n",
            "  inflating: Question_Answer_Dataset_v1.2/S10/data/set2/a1o.htm  \n",
            "  inflating: Question_Answer_Dataset_v1.2/S10/data/set2/a2.htm  \n",
            "  inflating: Question_Answer_Dataset_v1.2/S10/data/set2/a2.txt  \n",
            "  inflating: Question_Answer_Dataset_v1.2/S10/data/set2/a2.txt.clean  \n",
            "  inflating: Question_Answer_Dataset_v1.2/S10/data/set2/a2o.htm  \n",
            "  inflating: Question_Answer_Dataset_v1.2/S10/data/set2/a3.htm  \n",
            "  inflating: Question_Answer_Dataset_v1.2/S10/data/set2/a3.txt  \n",
            "  inflating: Question_Answer_Dataset_v1.2/S10/data/set2/a3.txt.clean  \n",
            "  inflating: Question_Answer_Dataset_v1.2/S10/data/set2/a3o.htm  \n",
            "  inflating: Question_Answer_Dataset_v1.2/S10/data/set2/a4.htm  \n",
            "  inflating: Question_Answer_Dataset_v1.2/S10/data/set2/a4.txt  \n",
            "  inflating: Question_Answer_Dataset_v1.2/S10/data/set2/a4.txt.clean  \n",
            "  inflating: Question_Answer_Dataset_v1.2/S10/data/set2/a4o.htm  \n",
            "  inflating: Question_Answer_Dataset_v1.2/S10/data/set2/a5.htm  \n",
            "  inflating: Question_Answer_Dataset_v1.2/S10/data/set2/a5.txt  \n",
            "  inflating: Question_Answer_Dataset_v1.2/S10/data/set2/a5.txt.clean  \n",
            "  inflating: Question_Answer_Dataset_v1.2/S10/data/set2/a5o.htm  \n",
            "  inflating: Question_Answer_Dataset_v1.2/S10/data/set2/a6.htm  \n",
            "  inflating: Question_Answer_Dataset_v1.2/S10/data/set2/a6.txt  \n",
            "  inflating: Question_Answer_Dataset_v1.2/S10/data/set2/a6.txt.clean  \n",
            "  inflating: Question_Answer_Dataset_v1.2/S10/data/set2/a6o.htm  \n",
            "  inflating: Question_Answer_Dataset_v1.2/S10/data/set2/a7.htm  \n",
            "  inflating: Question_Answer_Dataset_v1.2/S10/data/set2/a7.txt  \n",
            "  inflating: Question_Answer_Dataset_v1.2/S10/data/set2/a7.txt.clean  \n",
            "  inflating: Question_Answer_Dataset_v1.2/S10/data/set2/a7o.htm  \n",
            "  inflating: Question_Answer_Dataset_v1.2/S10/data/set2/a8.htm  \n",
            "  inflating: Question_Answer_Dataset_v1.2/S10/data/set2/a8.txt  \n",
            "  inflating: Question_Answer_Dataset_v1.2/S10/data/set2/a8.txt.clean  \n",
            "  inflating: Question_Answer_Dataset_v1.2/S10/data/set2/a8o.htm  \n",
            "  inflating: Question_Answer_Dataset_v1.2/S10/data/set2/a9.htm  \n",
            "  inflating: Question_Answer_Dataset_v1.2/S10/data/set2/a9.txt  \n",
            "  inflating: Question_Answer_Dataset_v1.2/S10/data/set2/a9.txt.clean  \n",
            "  inflating: Question_Answer_Dataset_v1.2/S10/data/set2/a9o.htm  \n",
            "  inflating: Question_Answer_Dataset_v1.2/S10/data/set2/topics.txt  \n",
            "  inflating: Question_Answer_Dataset_v1.2/S10/data/set3/a1.htm  \n",
            "  inflating: Question_Answer_Dataset_v1.2/S10/data/set3/a1.txt  \n",
            "  inflating: Question_Answer_Dataset_v1.2/S10/data/set3/a1.txt.clean  \n",
            "  inflating: Question_Answer_Dataset_v1.2/S10/data/set3/a10.htm  \n",
            "  inflating: Question_Answer_Dataset_v1.2/S10/data/set3/a10.txt  \n",
            "  inflating: Question_Answer_Dataset_v1.2/S10/data/set3/a10.txt.clean  \n",
            "  inflating: Question_Answer_Dataset_v1.2/S10/data/set3/a10o.htm  \n",
            "  inflating: Question_Answer_Dataset_v1.2/S10/data/set3/a1o.htm  \n",
            "  inflating: Question_Answer_Dataset_v1.2/S10/data/set3/a2.htm  \n",
            "  inflating: Question_Answer_Dataset_v1.2/S10/data/set3/a2.txt  \n",
            "  inflating: Question_Answer_Dataset_v1.2/S10/data/set3/a2.txt.clean  \n",
            "  inflating: Question_Answer_Dataset_v1.2/S10/data/set3/a2o.htm  \n",
            "  inflating: Question_Answer_Dataset_v1.2/S10/data/set3/a3.htm  \n",
            "  inflating: Question_Answer_Dataset_v1.2/S10/data/set3/a3.txt  \n",
            "  inflating: Question_Answer_Dataset_v1.2/S10/data/set3/a3.txt.clean  \n",
            "  inflating: Question_Answer_Dataset_v1.2/S10/data/set3/a3o.htm  \n",
            "  inflating: Question_Answer_Dataset_v1.2/S10/data/set3/a4.htm  \n",
            "  inflating: Question_Answer_Dataset_v1.2/S10/data/set3/a4.txt  \n",
            "  inflating: Question_Answer_Dataset_v1.2/S10/data/set3/a4.txt.clean  \n",
            "  inflating: Question_Answer_Dataset_v1.2/S10/data/set3/a4o.htm  \n",
            "  inflating: Question_Answer_Dataset_v1.2/S10/data/set3/a5.htm  \n",
            "  inflating: Question_Answer_Dataset_v1.2/S10/data/set3/a5.txt  \n",
            "  inflating: Question_Answer_Dataset_v1.2/S10/data/set3/a5.txt.clean  \n",
            "  inflating: Question_Answer_Dataset_v1.2/S10/data/set3/a5o.htm  \n",
            "  inflating: Question_Answer_Dataset_v1.2/S10/data/set3/a6.htm  \n",
            "  inflating: Question_Answer_Dataset_v1.2/S10/data/set3/a6.txt  \n",
            "  inflating: Question_Answer_Dataset_v1.2/S10/data/set3/a6.txt.clean  \n",
            "  inflating: Question_Answer_Dataset_v1.2/S10/data/set3/a6o.htm  \n",
            "  inflating: Question_Answer_Dataset_v1.2/S10/data/set3/a7.htm  \n",
            "  inflating: Question_Answer_Dataset_v1.2/S10/data/set3/a7.txt  \n",
            "  inflating: Question_Answer_Dataset_v1.2/S10/data/set3/a7.txt.clean  \n",
            "  inflating: Question_Answer_Dataset_v1.2/S10/data/set3/a7o.htm  \n",
            "  inflating: Question_Answer_Dataset_v1.2/S10/data/set3/a8.htm  \n",
            "  inflating: Question_Answer_Dataset_v1.2/S10/data/set3/a8.txt  \n",
            "  inflating: Question_Answer_Dataset_v1.2/S10/data/set3/a8.txt.clean  \n",
            "  inflating: Question_Answer_Dataset_v1.2/S10/data/set3/a8o.htm  \n",
            "  inflating: Question_Answer_Dataset_v1.2/S10/data/set3/a9.htm  \n",
            "  inflating: Question_Answer_Dataset_v1.2/S10/data/set3/a9.txt  \n",
            "  inflating: Question_Answer_Dataset_v1.2/S10/data/set3/a9.txt.clean  \n",
            "  inflating: Question_Answer_Dataset_v1.2/S10/data/set3/a9o.htm  \n",
            "  inflating: Question_Answer_Dataset_v1.2/S10/data/set3/topics.txt  \n",
            "  inflating: Question_Answer_Dataset_v1.2/S10/data/set4/a1.htm  \n",
            "  inflating: Question_Answer_Dataset_v1.2/S10/data/set4/a1.txt  \n",
            "  inflating: Question_Answer_Dataset_v1.2/S10/data/set4/a1.txt.clean  \n",
            "  inflating: Question_Answer_Dataset_v1.2/S10/data/set4/a10.htm  \n",
            "  inflating: Question_Answer_Dataset_v1.2/S10/data/set4/a10.txt  \n",
            "  inflating: Question_Answer_Dataset_v1.2/S10/data/set4/a10.txt.clean  \n",
            "  inflating: Question_Answer_Dataset_v1.2/S10/data/set4/a10o.htm  \n",
            "  inflating: Question_Answer_Dataset_v1.2/S10/data/set4/a1o.htm  \n",
            "  inflating: Question_Answer_Dataset_v1.2/S10/data/set4/a2.htm  \n",
            "  inflating: Question_Answer_Dataset_v1.2/S10/data/set4/a2.txt  \n",
            "  inflating: Question_Answer_Dataset_v1.2/S10/data/set4/a2.txt.clean  \n",
            "  inflating: Question_Answer_Dataset_v1.2/S10/data/set4/a2o.htm  \n",
            "  inflating: Question_Answer_Dataset_v1.2/S10/data/set4/a3.htm  \n",
            "  inflating: Question_Answer_Dataset_v1.2/S10/data/set4/a3.txt  \n",
            "  inflating: Question_Answer_Dataset_v1.2/S10/data/set4/a3.txt.clean  \n",
            "  inflating: Question_Answer_Dataset_v1.2/S10/data/set4/a3o.htm  \n",
            "  inflating: Question_Answer_Dataset_v1.2/S10/data/set4/a4.htm  \n",
            "  inflating: Question_Answer_Dataset_v1.2/S10/data/set4/a4.txt  \n",
            "  inflating: Question_Answer_Dataset_v1.2/S10/data/set4/a4.txt.clean  \n",
            "  inflating: Question_Answer_Dataset_v1.2/S10/data/set4/a4o.htm  \n",
            "  inflating: Question_Answer_Dataset_v1.2/S10/data/set4/a5.htm  \n",
            "  inflating: Question_Answer_Dataset_v1.2/S10/data/set4/a5.txt  \n",
            "  inflating: Question_Answer_Dataset_v1.2/S10/data/set4/a5.txt.clean  \n",
            "  inflating: Question_Answer_Dataset_v1.2/S10/data/set4/a5o.htm  \n",
            "  inflating: Question_Answer_Dataset_v1.2/S10/data/set4/a6.htm  \n",
            "  inflating: Question_Answer_Dataset_v1.2/S10/data/set4/a6.txt  \n",
            "  inflating: Question_Answer_Dataset_v1.2/S10/data/set4/a6.txt.clean  \n",
            "  inflating: Question_Answer_Dataset_v1.2/S10/data/set4/a6o.htm  \n",
            "  inflating: Question_Answer_Dataset_v1.2/S10/data/set4/a7.htm  \n",
            "  inflating: Question_Answer_Dataset_v1.2/S10/data/set4/a7.txt  \n",
            "  inflating: Question_Answer_Dataset_v1.2/S10/data/set4/a7.txt.clean  \n",
            "  inflating: Question_Answer_Dataset_v1.2/S10/data/set4/a7o.htm  \n",
            "  inflating: Question_Answer_Dataset_v1.2/S10/data/set4/a8.htm  \n",
            "  inflating: Question_Answer_Dataset_v1.2/S10/data/set4/a8.txt  \n",
            "  inflating: Question_Answer_Dataset_v1.2/S10/data/set4/a8.txt.clean  \n",
            "  inflating: Question_Answer_Dataset_v1.2/S10/data/set4/a8o.htm  \n",
            "  inflating: Question_Answer_Dataset_v1.2/S10/data/set4/a9.htm  \n",
            "  inflating: Question_Answer_Dataset_v1.2/S10/data/set4/a9.txt  \n",
            "  inflating: Question_Answer_Dataset_v1.2/S10/data/set4/a9.txt.clean  \n",
            "  inflating: Question_Answer_Dataset_v1.2/S10/data/set4/a9o.htm  \n",
            "  inflating: Question_Answer_Dataset_v1.2/S10/data/set4/topics.txt  \n",
            "  inflating: Question_Answer_Dataset_v1.2/S10/data/set5/a1.htm  \n",
            "  inflating: Question_Answer_Dataset_v1.2/S10/data/set5/a1.txt  \n",
            "  inflating: Question_Answer_Dataset_v1.2/S10/data/set5/a1.txt.clean  \n",
            "  inflating: Question_Answer_Dataset_v1.2/S10/data/set5/a10.htm  \n",
            "  inflating: Question_Answer_Dataset_v1.2/S10/data/set5/a10.txt  \n",
            "  inflating: Question_Answer_Dataset_v1.2/S10/data/set5/a10.txt.clean  \n",
            "  inflating: Question_Answer_Dataset_v1.2/S10/data/set5/a10o.htm  \n",
            "  inflating: Question_Answer_Dataset_v1.2/S10/data/set5/a1o.htm  \n",
            "  inflating: Question_Answer_Dataset_v1.2/S10/data/set5/a2.htm  \n",
            "  inflating: Question_Answer_Dataset_v1.2/S10/data/set5/a2.txt  \n",
            "  inflating: Question_Answer_Dataset_v1.2/S10/data/set5/a2.txt.clean  \n",
            "  inflating: Question_Answer_Dataset_v1.2/S10/data/set5/a2o.htm  \n",
            "  inflating: Question_Answer_Dataset_v1.2/S10/data/set5/a3.htm  \n",
            "  inflating: Question_Answer_Dataset_v1.2/S10/data/set5/a3.txt  \n",
            "  inflating: Question_Answer_Dataset_v1.2/S10/data/set5/a3.txt.clean  \n",
            "  inflating: Question_Answer_Dataset_v1.2/S10/data/set5/a3o.htm  \n",
            "  inflating: Question_Answer_Dataset_v1.2/S10/data/set5/a4.htm  \n",
            "  inflating: Question_Answer_Dataset_v1.2/S10/data/set5/a4.txt  \n",
            "  inflating: Question_Answer_Dataset_v1.2/S10/data/set5/a4.txt.clean  \n",
            "  inflating: Question_Answer_Dataset_v1.2/S10/data/set5/a4o.htm  \n",
            "  inflating: Question_Answer_Dataset_v1.2/S10/data/set5/a5.htm  \n",
            "  inflating: Question_Answer_Dataset_v1.2/S10/data/set5/a5.txt  \n",
            "  inflating: Question_Answer_Dataset_v1.2/S10/data/set5/a5.txt.clean  \n",
            "  inflating: Question_Answer_Dataset_v1.2/S10/data/set5/a5o.htm  \n",
            "  inflating: Question_Answer_Dataset_v1.2/S10/data/set5/a6.htm  \n",
            "  inflating: Question_Answer_Dataset_v1.2/S10/data/set5/a6.txt  \n",
            "  inflating: Question_Answer_Dataset_v1.2/S10/data/set5/a6.txt.clean  \n",
            "  inflating: Question_Answer_Dataset_v1.2/S10/data/set5/a6o.htm  \n",
            "  inflating: Question_Answer_Dataset_v1.2/S10/data/set5/a7.htm  \n",
            "  inflating: Question_Answer_Dataset_v1.2/S10/data/set5/a7.txt  \n",
            "  inflating: Question_Answer_Dataset_v1.2/S10/data/set5/a7.txt.clean  \n",
            "  inflating: Question_Answer_Dataset_v1.2/S10/data/set5/a7o.htm  \n",
            "  inflating: Question_Answer_Dataset_v1.2/S10/data/set5/a8.htm  \n",
            "  inflating: Question_Answer_Dataset_v1.2/S10/data/set5/a8.txt  \n",
            "  inflating: Question_Answer_Dataset_v1.2/S10/data/set5/a8.txt.clean  \n",
            "  inflating: Question_Answer_Dataset_v1.2/S10/data/set5/a8o.htm  \n",
            "  inflating: Question_Answer_Dataset_v1.2/S10/data/set5/a9.htm  \n",
            "  inflating: Question_Answer_Dataset_v1.2/S10/data/set5/a9.txt  \n",
            "  inflating: Question_Answer_Dataset_v1.2/S10/data/set5/a9.txt.clean  \n",
            "  inflating: Question_Answer_Dataset_v1.2/S10/data/set5/a9o.htm  \n",
            "  inflating: Question_Answer_Dataset_v1.2/S10/data/set5/topics.txt  \n",
            "  inflating: Question_Answer_Dataset_v1.2/S10/data/set6/a1.htm  \n",
            "  inflating: Question_Answer_Dataset_v1.2/S10/data/set6/a1.txt  \n",
            "  inflating: Question_Answer_Dataset_v1.2/S10/data/set6/a1.txt.clean  \n",
            "  inflating: Question_Answer_Dataset_v1.2/S10/data/set6/a10.htm  \n",
            "  inflating: Question_Answer_Dataset_v1.2/S10/data/set6/a10.txt  \n",
            "  inflating: Question_Answer_Dataset_v1.2/S10/data/set6/a10.txt.clean  \n",
            "  inflating: Question_Answer_Dataset_v1.2/S10/data/set6/a10o.htm  \n",
            "  inflating: Question_Answer_Dataset_v1.2/S10/data/set6/a1o.htm  \n",
            "  inflating: Question_Answer_Dataset_v1.2/S10/data/set6/a2.htm  \n",
            "  inflating: Question_Answer_Dataset_v1.2/S10/data/set6/a2.txt  \n",
            "  inflating: Question_Answer_Dataset_v1.2/S10/data/set6/a2.txt.clean  \n",
            "  inflating: Question_Answer_Dataset_v1.2/S10/data/set6/a2o.htm  \n",
            "  inflating: Question_Answer_Dataset_v1.2/S10/data/set6/a3.htm  \n",
            "  inflating: Question_Answer_Dataset_v1.2/S10/data/set6/a3.txt  \n",
            "  inflating: Question_Answer_Dataset_v1.2/S10/data/set6/a3.txt.clean  \n",
            "  inflating: Question_Answer_Dataset_v1.2/S10/data/set6/a3o.htm  \n",
            "  inflating: Question_Answer_Dataset_v1.2/S10/data/set6/a4.htm  \n",
            "  inflating: Question_Answer_Dataset_v1.2/S10/data/set6/a4.txt  \n",
            "  inflating: Question_Answer_Dataset_v1.2/S10/data/set6/a4.txt.clean  \n",
            "  inflating: Question_Answer_Dataset_v1.2/S10/data/set6/a4o.htm  \n",
            "  inflating: Question_Answer_Dataset_v1.2/S10/data/set6/a5.htm  \n",
            "  inflating: Question_Answer_Dataset_v1.2/S10/data/set6/a5.txt  \n",
            "  inflating: Question_Answer_Dataset_v1.2/S10/data/set6/a5.txt.clean  \n",
            "  inflating: Question_Answer_Dataset_v1.2/S10/data/set6/a5o.htm  \n",
            "  inflating: Question_Answer_Dataset_v1.2/S10/data/set6/a6.htm  \n",
            "  inflating: Question_Answer_Dataset_v1.2/S10/data/set6/a6.txt  \n",
            "  inflating: Question_Answer_Dataset_v1.2/S10/data/set6/a6.txt.clean  \n",
            "  inflating: Question_Answer_Dataset_v1.2/S10/data/set6/a6o.htm  \n",
            "  inflating: Question_Answer_Dataset_v1.2/S10/data/set6/a7.htm  \n",
            "  inflating: Question_Answer_Dataset_v1.2/S10/data/set6/a7.txt  \n",
            "  inflating: Question_Answer_Dataset_v1.2/S10/data/set6/a7.txt.clean  \n",
            "  inflating: Question_Answer_Dataset_v1.2/S10/data/set6/a7o.htm  \n",
            "  inflating: Question_Answer_Dataset_v1.2/S10/data/set6/a8.htm  \n",
            "  inflating: Question_Answer_Dataset_v1.2/S10/data/set6/a8.txt  \n",
            "  inflating: Question_Answer_Dataset_v1.2/S10/data/set6/a8.txt.clean  \n",
            "  inflating: Question_Answer_Dataset_v1.2/S10/data/set6/a8o.htm  \n",
            "  inflating: Question_Answer_Dataset_v1.2/S10/data/set6/a9.htm  \n",
            "  inflating: Question_Answer_Dataset_v1.2/S10/data/set6/a9.txt  \n",
            "  inflating: Question_Answer_Dataset_v1.2/S10/data/set6/a9.txt.clean  \n",
            "  inflating: Question_Answer_Dataset_v1.2/S10/data/set6/a9o.htm  \n",
            "  inflating: Question_Answer_Dataset_v1.2/S10/data/set6/topics.txt  \n",
            "  inflating: Question_Answer_Dataset_v1.2/S10/question_answer_pairs.txt  \n"
          ],
          "name": "stdout"
        }
      ]
    },
    {
      "cell_type": "code",
      "metadata": {
        "id": "vfAHt7Nli4-w"
      },
      "source": [
        "import os\r\n",
        "import math\r\n",
        "import time\r\n",
        "import random\r\n",
        "\r\n",
        "import pandas as pd\r\n",
        "import numpy as np\r\n",
        "\r\n",
        "import torchtext\r\n",
        "import torch\r\n",
        "from torch import nn\r\n",
        "from torchtext import data \r\n",
        "import torch.optim as optim\r\n",
        "from torchtext.data import Field, BucketIterator\r\n",
        "import spacy\r\n",
        "\r\n",
        "\r\n",
        "\r\n",
        "from IPython.core.interactiveshell import InteractiveShell\r\n",
        "InteractiveShell.ast_node_interactivity = \"all\""
      ],
      "execution_count": 8,
      "outputs": []
    },
    {
      "cell_type": "code",
      "metadata": {
        "id": "tKTj7N1fioo3"
      },
      "source": [
        "def seed_everything(seed_value):\r\n",
        "    random.seed(seed_value)\r\n",
        "    np.random.seed(seed_value)\r\n",
        "    torch.manual_seed(seed_value)\r\n",
        "    os.environ['PYTHONHASHSEED'] = str(seed_value)\r\n",
        "    \r\n",
        "    if torch.cuda.is_available(): \r\n",
        "        torch.cuda.manual_seed(seed_value)\r\n",
        "        torch.cuda.manual_seed_all(seed_value)\r\n",
        "        torch.backends.cudnn.deterministic = True\r\n",
        "        torch.backends.cudnn.benchmark = False\r\n",
        "        \r\n",
        "seed_everything(42)"
      ],
      "execution_count": 9,
      "outputs": []
    },
    {
      "cell_type": "markdown",
      "metadata": {
        "id": "c125yPZO8uJK"
      },
      "source": [
        "There are three directories, one for each year of students: S08, S09, and S10. The file \"question_answer_pairs.txt\" contains the questions and answers. The first line of the file contains \r\n",
        "column names for the tab-separated data fields in the file. This first line follows:\r\n",
        "\r\n",
        "We will extract the question and answers from all the three files and concatenate"
      ]
    },
    {
      "cell_type": "code",
      "metadata": {
        "colab": {
          "base_uri": "https://localhost:8080/"
        },
        "id": "DCUTQtCNjCyj",
        "outputId": "d8fcbace-3039-4225-b8f1-ccc6984528ed"
      },
      "source": [
        "!ls"
      ],
      "execution_count": 10,
      "outputs": [
        {
          "output_type": "stream",
          "text": [
            "kaggle.json\t\t      questionanswer-dataset.zip\n",
            "Question_Answer_Dataset_v1.2  sample_data\n"
          ],
          "name": "stdout"
        }
      ]
    },
    {
      "cell_type": "code",
      "metadata": {
        "colab": {
          "base_uri": "https://localhost:8080/"
        },
        "id": "EGE6as9s23FW",
        "outputId": "b8b07f80-0fdc-45e5-91c2-ad14ca1fe97c"
      },
      "source": [
        "df1 = pd.read_csv(\"./Question_Answer_Dataset_v1.2/S08/question_answer_pairs.txt\",sep=\"\\t\",engine='python')\r\n",
        "df2 = pd.read_csv(\"./Question_Answer_Dataset_v1.2/S09/question_answer_pairs.txt\",sep=\"\\t\",engine='python')\r\n",
        "df3 = pd.read_csv(\"./Question_Answer_Dataset_v1.2/S10/question_answer_pairs.txt\",sep=\"\\t\",engine='python',quotechar='\"', error_bad_lines=False)"
      ],
      "execution_count": 11,
      "outputs": [
        {
          "output_type": "stream",
          "text": [
            "Skipping line 765: '\t' expected after '\"'\n",
            "Skipping line 876: '\t' expected after '\"'\n",
            "Skipping line 1219: '\t' expected after '\"'\n"
          ],
          "name": "stderr"
        }
      ]
    },
    {
      "cell_type": "code",
      "metadata": {
        "id": "uMz8avsr3-EB"
      },
      "source": [
        "df = pd.concat([df1, df2, df3], axis=0, ignore_index=True)"
      ],
      "execution_count": 12,
      "outputs": []
    },
    {
      "cell_type": "code",
      "metadata": {
        "colab": {
          "base_uri": "https://localhost:8080/",
          "height": 204
        },
        "id": "7xHeurgBfqdY",
        "outputId": "e937295b-8ecd-4dda-a74b-e4c77533dee6"
      },
      "source": [
        "df.head()"
      ],
      "execution_count": 13,
      "outputs": [
        {
          "output_type": "execute_result",
          "data": {
            "text/html": [
              "<div>\n",
              "<style scoped>\n",
              "    .dataframe tbody tr th:only-of-type {\n",
              "        vertical-align: middle;\n",
              "    }\n",
              "\n",
              "    .dataframe tbody tr th {\n",
              "        vertical-align: top;\n",
              "    }\n",
              "\n",
              "    .dataframe thead th {\n",
              "        text-align: right;\n",
              "    }\n",
              "</style>\n",
              "<table border=\"1\" class=\"dataframe\">\n",
              "  <thead>\n",
              "    <tr style=\"text-align: right;\">\n",
              "      <th></th>\n",
              "      <th>ArticleTitle</th>\n",
              "      <th>Question</th>\n",
              "      <th>Answer</th>\n",
              "      <th>DifficultyFromQuestioner</th>\n",
              "      <th>DifficultyFromAnswerer</th>\n",
              "      <th>ArticleFile</th>\n",
              "    </tr>\n",
              "  </thead>\n",
              "  <tbody>\n",
              "    <tr>\n",
              "      <th>0</th>\n",
              "      <td>Abraham_Lincoln</td>\n",
              "      <td>Was Abraham Lincoln the sixteenth President of...</td>\n",
              "      <td>yes</td>\n",
              "      <td>easy</td>\n",
              "      <td>easy</td>\n",
              "      <td>data/set3/a4</td>\n",
              "    </tr>\n",
              "    <tr>\n",
              "      <th>1</th>\n",
              "      <td>Abraham_Lincoln</td>\n",
              "      <td>Was Abraham Lincoln the sixteenth President of...</td>\n",
              "      <td>Yes.</td>\n",
              "      <td>easy</td>\n",
              "      <td>easy</td>\n",
              "      <td>data/set3/a4</td>\n",
              "    </tr>\n",
              "    <tr>\n",
              "      <th>2</th>\n",
              "      <td>Abraham_Lincoln</td>\n",
              "      <td>Did Lincoln sign the National Banking Act of 1...</td>\n",
              "      <td>yes</td>\n",
              "      <td>easy</td>\n",
              "      <td>medium</td>\n",
              "      <td>data/set3/a4</td>\n",
              "    </tr>\n",
              "    <tr>\n",
              "      <th>3</th>\n",
              "      <td>Abraham_Lincoln</td>\n",
              "      <td>Did Lincoln sign the National Banking Act of 1...</td>\n",
              "      <td>Yes.</td>\n",
              "      <td>easy</td>\n",
              "      <td>easy</td>\n",
              "      <td>data/set3/a4</td>\n",
              "    </tr>\n",
              "    <tr>\n",
              "      <th>4</th>\n",
              "      <td>Abraham_Lincoln</td>\n",
              "      <td>Did his mother die of pneumonia?</td>\n",
              "      <td>no</td>\n",
              "      <td>easy</td>\n",
              "      <td>medium</td>\n",
              "      <td>data/set3/a4</td>\n",
              "    </tr>\n",
              "  </tbody>\n",
              "</table>\n",
              "</div>"
            ],
            "text/plain": [
              "      ArticleTitle  ...   ArticleFile\n",
              "0  Abraham_Lincoln  ...  data/set3/a4\n",
              "1  Abraham_Lincoln  ...  data/set3/a4\n",
              "2  Abraham_Lincoln  ...  data/set3/a4\n",
              "3  Abraham_Lincoln  ...  data/set3/a4\n",
              "4  Abraham_Lincoln  ...  data/set3/a4\n",
              "\n",
              "[5 rows x 6 columns]"
            ]
          },
          "metadata": {
            "tags": []
          },
          "execution_count": 13
        }
      ]
    },
    {
      "cell_type": "code",
      "metadata": {
        "colab": {
          "base_uri": "https://localhost:8080/"
        },
        "id": "RSYcUJQawJ7D",
        "outputId": "4172db61-20a8-4e3a-8af4-e10a861efcda"
      },
      "source": [
        "df.info()"
      ],
      "execution_count": 14,
      "outputs": [
        {
          "output_type": "stream",
          "text": [
            "<class 'pandas.core.frame.DataFrame'>\n",
            "RangeIndex: 3995 entries, 0 to 3994\n",
            "Data columns (total 6 columns):\n",
            " #   Column                    Non-Null Count  Dtype \n",
            "---  ------                    --------------  ----- \n",
            " 0   ArticleTitle              3995 non-null   object\n",
            " 1   Question                  3958 non-null   object\n",
            " 2   Answer                    3419 non-null   object\n",
            " 3   DifficultyFromQuestioner  3041 non-null   object\n",
            " 4   DifficultyFromAnswerer    3415 non-null   object\n",
            " 5   ArticleFile               3993 non-null   object\n",
            "dtypes: object(6)\n",
            "memory usage: 187.4+ KB\n"
          ],
          "name": "stdout"
        }
      ]
    },
    {
      "cell_type": "markdown",
      "metadata": {
        "id": "NqoiwZwk9Uya"
      },
      "source": [
        "Drop the rows which contains nulls values in Question and Answer columns"
      ]
    },
    {
      "cell_type": "code",
      "metadata": {
        "colab": {
          "base_uri": "https://localhost:8080/",
          "height": 538
        },
        "id": "MlnGJCpxvr0T",
        "outputId": "6e9f2321-b6bb-4ec8-bffc-9280b0b839a1"
      },
      "source": [
        "df.dropna(subset=['Question','Answer'], inplace=True)\r\n",
        "df.reset_index(drop=True)"
      ],
      "execution_count": 15,
      "outputs": [
        {
          "output_type": "execute_result",
          "data": {
            "text/html": [
              "<div>\n",
              "<style scoped>\n",
              "    .dataframe tbody tr th:only-of-type {\n",
              "        vertical-align: middle;\n",
              "    }\n",
              "\n",
              "    .dataframe tbody tr th {\n",
              "        vertical-align: top;\n",
              "    }\n",
              "\n",
              "    .dataframe thead th {\n",
              "        text-align: right;\n",
              "    }\n",
              "</style>\n",
              "<table border=\"1\" class=\"dataframe\">\n",
              "  <thead>\n",
              "    <tr style=\"text-align: right;\">\n",
              "      <th></th>\n",
              "      <th>ArticleTitle</th>\n",
              "      <th>Question</th>\n",
              "      <th>Answer</th>\n",
              "      <th>DifficultyFromQuestioner</th>\n",
              "      <th>DifficultyFromAnswerer</th>\n",
              "      <th>ArticleFile</th>\n",
              "    </tr>\n",
              "  </thead>\n",
              "  <tbody>\n",
              "    <tr>\n",
              "      <th>0</th>\n",
              "      <td>Abraham_Lincoln</td>\n",
              "      <td>Was Abraham Lincoln the sixteenth President of...</td>\n",
              "      <td>yes</td>\n",
              "      <td>easy</td>\n",
              "      <td>easy</td>\n",
              "      <td>data/set3/a4</td>\n",
              "    </tr>\n",
              "    <tr>\n",
              "      <th>1</th>\n",
              "      <td>Abraham_Lincoln</td>\n",
              "      <td>Was Abraham Lincoln the sixteenth President of...</td>\n",
              "      <td>Yes.</td>\n",
              "      <td>easy</td>\n",
              "      <td>easy</td>\n",
              "      <td>data/set3/a4</td>\n",
              "    </tr>\n",
              "    <tr>\n",
              "      <th>2</th>\n",
              "      <td>Abraham_Lincoln</td>\n",
              "      <td>Did Lincoln sign the National Banking Act of 1...</td>\n",
              "      <td>yes</td>\n",
              "      <td>easy</td>\n",
              "      <td>medium</td>\n",
              "      <td>data/set3/a4</td>\n",
              "    </tr>\n",
              "    <tr>\n",
              "      <th>3</th>\n",
              "      <td>Abraham_Lincoln</td>\n",
              "      <td>Did Lincoln sign the National Banking Act of 1...</td>\n",
              "      <td>Yes.</td>\n",
              "      <td>easy</td>\n",
              "      <td>easy</td>\n",
              "      <td>data/set3/a4</td>\n",
              "    </tr>\n",
              "    <tr>\n",
              "      <th>4</th>\n",
              "      <td>Abraham_Lincoln</td>\n",
              "      <td>Did his mother die of pneumonia?</td>\n",
              "      <td>no</td>\n",
              "      <td>easy</td>\n",
              "      <td>medium</td>\n",
              "      <td>data/set3/a4</td>\n",
              "    </tr>\n",
              "    <tr>\n",
              "      <th>...</th>\n",
              "      <td>...</td>\n",
              "      <td>...</td>\n",
              "      <td>...</td>\n",
              "      <td>...</td>\n",
              "      <td>...</td>\n",
              "      <td>...</td>\n",
              "    </tr>\n",
              "    <tr>\n",
              "      <th>3414</th>\n",
              "      <td>Zebra</td>\n",
              "      <td>What areas do the Grevy's Zebras inhabit?</td>\n",
              "      <td>semi-arid grasslands of Ethiopia and northern ...</td>\n",
              "      <td>hard</td>\n",
              "      <td>hard</td>\n",
              "      <td>data/set1/a9</td>\n",
              "    </tr>\n",
              "    <tr>\n",
              "      <th>3415</th>\n",
              "      <td>Zebra</td>\n",
              "      <td>Which species of zebra is known as the common ...</td>\n",
              "      <td>Plains Zebra (Equus quagga, formerly Equus bur...</td>\n",
              "      <td>hard</td>\n",
              "      <td>medium</td>\n",
              "      <td>data/set1/a9</td>\n",
              "    </tr>\n",
              "    <tr>\n",
              "      <th>3416</th>\n",
              "      <td>Zebra</td>\n",
              "      <td>Which species of zebra is known as the common ...</td>\n",
              "      <td>Plains Zebra</td>\n",
              "      <td>hard</td>\n",
              "      <td>medium</td>\n",
              "      <td>data/set1/a9</td>\n",
              "    </tr>\n",
              "    <tr>\n",
              "      <th>3417</th>\n",
              "      <td>Zebra</td>\n",
              "      <td>At what age can a zebra breed?</td>\n",
              "      <td>five or six</td>\n",
              "      <td>hard</td>\n",
              "      <td>medium</td>\n",
              "      <td>data/set1/a9</td>\n",
              "    </tr>\n",
              "    <tr>\n",
              "      <th>3418</th>\n",
              "      <td>Zebra</td>\n",
              "      <td>At what age can a zebra breed?</td>\n",
              "      <td>5 or 6</td>\n",
              "      <td>hard</td>\n",
              "      <td>hard</td>\n",
              "      <td>data/set1/a9</td>\n",
              "    </tr>\n",
              "  </tbody>\n",
              "</table>\n",
              "<p>3419 rows × 6 columns</p>\n",
              "</div>"
            ],
            "text/plain": [
              "         ArticleTitle  ...   ArticleFile\n",
              "0     Abraham_Lincoln  ...  data/set3/a4\n",
              "1     Abraham_Lincoln  ...  data/set3/a4\n",
              "2     Abraham_Lincoln  ...  data/set3/a4\n",
              "3     Abraham_Lincoln  ...  data/set3/a4\n",
              "4     Abraham_Lincoln  ...  data/set3/a4\n",
              "...               ...  ...           ...\n",
              "3414            Zebra  ...  data/set1/a9\n",
              "3415            Zebra  ...  data/set1/a9\n",
              "3416            Zebra  ...  data/set1/a9\n",
              "3417            Zebra  ...  data/set1/a9\n",
              "3418            Zebra  ...  data/set1/a9\n",
              "\n",
              "[3419 rows x 6 columns]"
            ]
          },
          "metadata": {
            "tags": []
          },
          "execution_count": 15
        }
      ]
    },
    {
      "cell_type": "code",
      "metadata": {
        "colab": {
          "base_uri": "https://localhost:8080/"
        },
        "id": "VXN0QPGzz0N4",
        "outputId": "e6ebbbcc-db08-4c4c-d5e3-f508326ba02a"
      },
      "source": [
        "df.info()"
      ],
      "execution_count": 16,
      "outputs": [
        {
          "output_type": "stream",
          "text": [
            "<class 'pandas.core.frame.DataFrame'>\n",
            "Int64Index: 3419 entries, 0 to 3994\n",
            "Data columns (total 6 columns):\n",
            " #   Column                    Non-Null Count  Dtype \n",
            "---  ------                    --------------  ----- \n",
            " 0   ArticleTitle              3419 non-null   object\n",
            " 1   Question                  3419 non-null   object\n",
            " 2   Answer                    3419 non-null   object\n",
            " 3   DifficultyFromQuestioner  2732 non-null   object\n",
            " 4   DifficultyFromAnswerer    3414 non-null   object\n",
            " 5   ArticleFile               3417 non-null   object\n",
            "dtypes: object(6)\n",
            "memory usage: 187.0+ KB\n"
          ],
          "name": "stdout"
        }
      ]
    },
    {
      "cell_type": "markdown",
      "metadata": {
        "id": "FIqiCwLi9ziA"
      },
      "source": [
        "Create our fields to process our data. This will append the \"start of sentence\" and \"end of sentence\" tokens as well as converting all words to lowercase."
      ]
    },
    {
      "cell_type": "code",
      "metadata": {
        "id": "mPLXQgHHf1jN"
      },
      "source": [
        "SRC= data.Field(sequential = True, tokenize = 'spacy',init_token='<sos>', \r\n",
        "            eos_token='<eos>', \r\n",
        "            lower=True)\r\n",
        "TRG = data.Field(sequential = True, tokenize = 'spacy',init_token='<sos>', \r\n",
        "            eos_token='<eos>', \r\n",
        "            lower=True)"
      ],
      "execution_count": 17,
      "outputs": []
    },
    {
      "cell_type": "markdown",
      "metadata": {
        "id": "2oFGBpLD-SWN"
      },
      "source": [
        "Having defined those fields, we now need to produce a list that maps them onto the list of rows that are in the CSV:"
      ]
    },
    {
      "cell_type": "code",
      "metadata": {
        "id": "oRu2G06Uu9NT"
      },
      "source": [
        "fields = [('Question', SRC),('Answer',TRG)]"
      ],
      "execution_count": 18,
      "outputs": []
    },
    {
      "cell_type": "markdown",
      "metadata": {
        "id": "456Hn8XE-f0Y"
      },
      "source": [
        "Armed with our declared fields, lets convert from pandas to list to torchtext. "
      ]
    },
    {
      "cell_type": "code",
      "metadata": {
        "id": "D-TlfW5lvDMP"
      },
      "source": [
        "example = [data.Example.fromlist([df.Question.iloc[i],df.Answer.iloc[i]], fields) for i in range(df.shape[0])] "
      ],
      "execution_count": 19,
      "outputs": []
    },
    {
      "cell_type": "markdown",
      "metadata": {
        "id": "sEBSbtg--kLP"
      },
      "source": [
        "Creating dataset"
      ]
    },
    {
      "cell_type": "code",
      "metadata": {
        "id": "OgRNKj2FvNq0"
      },
      "source": [
        "QnADataset = data.Dataset(example, fields)"
      ],
      "execution_count": 20,
      "outputs": []
    },
    {
      "cell_type": "markdown",
      "metadata": {
        "id": "00Dba1Gi-woo"
      },
      "source": [
        "Finally, we can split into training, testing, and validation sets by using the split() method:"
      ]
    },
    {
      "cell_type": "code",
      "metadata": {
        "id": "Fu7F8QEr0hPI"
      },
      "source": [
        "(train_data, valid_data,test_data) = QnADataset.split(split_ratio=[0.80, 0.10,0.10], random_state=random.seed(seed_everything))"
      ],
      "execution_count": 21,
      "outputs": []
    },
    {
      "cell_type": "code",
      "metadata": {
        "colab": {
          "base_uri": "https://localhost:8080/"
        },
        "id": "lPnEo75S0tt4",
        "outputId": "507857ba-d449-4286-c8cb-3d8979de8634"
      },
      "source": [
        "(len(train_data), len(valid_data),len(test_data))"
      ],
      "execution_count": 22,
      "outputs": [
        {
          "output_type": "execute_result",
          "data": {
            "text/plain": [
              "(2735, 342, 342)"
            ]
          },
          "metadata": {
            "tags": []
          },
          "execution_count": 22
        }
      ]
    },
    {
      "cell_type": "code",
      "metadata": {
        "colab": {
          "base_uri": "https://localhost:8080/"
        },
        "id": "HmFSDM4S07xn",
        "outputId": "3a958cb6-1325-4ce0-8abc-29ac4bc254eb"
      },
      "source": [
        "print(vars(train_data.examples[0]))"
      ],
      "execution_count": 23,
      "outputs": [
        {
          "output_type": "stream",
          "text": [
            "{'Question': ['what', 'are', 'young', 'swans', 'known', 'as', '?'], 'Answer': ['cygnets']}\n"
          ],
          "name": "stdout"
        }
      ]
    },
    {
      "cell_type": "markdown",
      "metadata": {
        "id": "rxX5mgk2-8VB"
      },
      "source": [
        "Then create our vocabulary, converting all tokens appearing less than twice into <unk> tokens."
      ]
    },
    {
      "cell_type": "code",
      "metadata": {
        "id": "rpDtuN2p0-K-"
      },
      "source": [
        "SRC.build_vocab(train_data, min_freq = 2)\r\n",
        "TRG.build_vocab(train_data, min_freq = 2)"
      ],
      "execution_count": 24,
      "outputs": []
    },
    {
      "cell_type": "markdown",
      "metadata": {
        "id": "K8EUkcBO--z-"
      },
      "source": [
        "Finally, define the device and create our iterators."
      ]
    },
    {
      "cell_type": "code",
      "metadata": {
        "id": "_-UvpKXg1AkT"
      },
      "source": [
        "device = torch.device('cuda' if torch.cuda.is_available() else 'cpu')"
      ],
      "execution_count": 25,
      "outputs": []
    },
    {
      "cell_type": "code",
      "metadata": {
        "id": "A19rx2ur1DZ9"
      },
      "source": [
        "BATCH_SIZE = 32\r\n",
        "\r\n",
        "train_iterator, valid_iterator, test_iterator = BucketIterator.splits(\r\n",
        "    (train_data, valid_data, test_data), \r\n",
        "    batch_size = BATCH_SIZE,\r\n",
        "    sort_key=lambda x : len(x.Question),\r\n",
        "    sort_within_batch=False, \r\n",
        "    device = device)"
      ],
      "execution_count": 26,
      "outputs": []
    },
    {
      "cell_type": "markdown",
      "metadata": {
        "id": "vOk39y21_C_w"
      },
      "source": [
        "## Building the Seq2Seq Model\r\n",
        "\r\n",
        "### Encoder\r\n",
        "\r\n",
        "The encoder is similar to the previous one, with the multi-layer LSTM swapped for a single-layer GRU. We also don't pass the dropout as an argument to the GRU as that dropout is used between each layer of a multi-layered RNN. As we only have a single layer, PyTorch will display a warning if we try and use pass a dropout value to it.\r\n",
        "\r\n",
        "Another thing to note about the GRU is that it only requires and returns a hidden state, there is no cell state like in the LSTM.\r\n",
        "\r\n",
        "$$\\begin{align*}\r\n",
        "h_t &= \\text{GRU}(e(x_t), h_{t-1})\\\\\r\n",
        "(h_t, c_t) &= \\text{LSTM}(e(x_t), h_{t-1}, c_{t-1})\\\\\r\n",
        "h_t &= \\text{RNN}(e(x_t), h_{t-1})\r\n",
        "\\end{align*}$$\r\n",
        "\r\n",
        "From the equations above, it looks like the RNN and the GRU are identical. Inside the GRU, however, is a number of *gating mechanisms* that control the information flow in to and out of the hidden state (similar to an LSTM). Again, for more info, check out [this](https://colah.github.io/posts/2015-08-Understanding-LSTMs/) excellent post. \r\n",
        "\r\n",
        "The rest of the encoder should be very familar from the last session, it takes in a sequence, $X = \\{x_1, x_2, ... , x_T\\}$, passes it through the embedding layer, recurrently calculates hidden states, $H = \\{h_1, h_2, ..., h_T\\}$, and returns a context vector (the final hidden state), $z=h_T$.\r\n",
        "\r\n",
        "$$h_t = \\text{EncoderGRU}(e(x_t), h_{t-1})$$\r\n",
        "\r\n",
        "This is identical to the encoder of the general seq2seq model, with all the \"magic\" happening inside the GRU (green).\r\n",
        "\r\n",
        "![](https://github.com/bentrevett/pytorch-seq2seq/blob/master/assets/seq2seq5.png?raw=1)"
      ]
    },
    {
      "cell_type": "code",
      "metadata": {
        "id": "pMS-S2L61IHE"
      },
      "source": [
        "class Encoder(nn.Module):\r\n",
        "    def __init__(self, input_dim, emb_dim, hid_dim, dropout):\r\n",
        "        super().__init__()\r\n",
        "\r\n",
        "        self.hid_dim = hid_dim\r\n",
        "        \r\n",
        "        self.embedding = nn.Embedding(input_dim, emb_dim) #no dropout as only one layer!\r\n",
        "        \r\n",
        "        self.rnn = nn.GRU(emb_dim, hid_dim)\r\n",
        "        \r\n",
        "        self.dropout = nn.Dropout(dropout)\r\n",
        "        \r\n",
        "    def forward(self, src):\r\n",
        "        \r\n",
        "        #src = [src len, batch size]\r\n",
        "        \r\n",
        "        embedded = self.dropout(self.embedding(src))\r\n",
        "        \r\n",
        "        #embedded = [src len, batch size, emb dim]\r\n",
        "        \r\n",
        "        outputs, hidden = self.rnn(embedded) #no cell state!\r\n",
        "        \r\n",
        "        #outputs = [src len, batch size, hid dim * n directions]\r\n",
        "        #hidden = [n layers * n directions, batch size, hid dim]\r\n",
        "        \r\n",
        "        #outputs are always from the top hidden layer\r\n",
        "        \r\n",
        "        return hidden"
      ],
      "execution_count": 27,
      "outputs": []
    },
    {
      "cell_type": "markdown",
      "metadata": {
        "id": "OiPrXt98_Kqy"
      },
      "source": [
        "## Decoder\r\n",
        "\r\n",
        "The decoder is where the implementation differs significantly from the previous model and we alleviate some of the information compression.\r\n",
        "\r\n",
        "Instead of the GRU in the decoder taking just the embedded target token, $d(y_t)$ and the previous hidden state $s_{t-1}$ as inputs, it also takes the context vector $z$. \r\n",
        "\r\n",
        "$$s_t = \\text{DecoderGRU}(d(y_t), s_{t-1}, z)$$\r\n",
        "\r\n",
        "Note how this context vector, $z$, does not have a $t$ subscript, meaning we re-use the same context vector returned by the encoder for every time-step in the decoder. \r\n",
        "\r\n",
        "Before, we predicted the next token, $\\hat{y}_{t+1}$, with the linear layer, $f$, only using the top-layer decoder hidden state at that time-step, $s_t$, as $\\hat{y}_{t+1}=f(s_t^L)$. Now, we also pass the embedding of current token, $d(y_t)$ and the context vector, $z$ to the linear layer.\r\n",
        "\r\n",
        "$$\\hat{y}_{t+1} = f(d(y_t), s_t, z)$$\r\n",
        "\r\n",
        "Thus, our decoder now looks something like this:\r\n",
        "\r\n",
        "![](https://github.com/bentrevett/pytorch-seq2seq/blob/master/assets/seq2seq6.png?raw=1)\r\n",
        "\r\n",
        "Note, the initial hidden state, $s_0$, is still the context vector, $z$, so when generating the first token we are actually inputting two identical context vectors into the GRU.\r\n",
        "\r\n",
        "How do these two changes reduce the information compression? Well, hypothetically the decoder hidden states, $s_t$, no longer need to contain information about the source sequence as it is always available as an input. Thus, it only needs to contain information about what tokens it has generated so far. The addition of $y_t$ to the linear layer also means this layer can directly see what the token is, without having to get this information from the hidden state. \r\n",
        "\r\n",
        "However, this hypothesis is just a hypothesis, it is impossible to determine how the model actually uses the information provided to it (don't listen to anyone that says differently). Nevertheless, it is a solid intuition and the results seem to indicate that this modifications are a good idea!\r\n",
        "\r\n",
        "Within the implementation, we will pass $d(y_t)$ and $z$ to the GRU by concatenating them together, so the input dimensions to the GRU are now `emb_dim + hid_dim` (as context vector will be of size `hid_dim`). The linear layer will take $d(y_t), s_t$ and $z$ also by concatenating them together, hence the input dimensions are now `emb_dim + hid_dim*2`. We also don't pass a value of dropout to the GRU as it only uses a single layer.\r\n",
        "\r\n",
        "`forward` now takes a `context` argument. Inside of `forward`, we concatenate $y_t$ and $z$ as `emb_con` before feeding to the GRU, and we concatenate $d(y_t)$, $s_t$ and $z$ together as `output` before feeding it through the linear layer to receive our predictions, $\\hat{y}_{t+1}$."
      ]
    },
    {
      "cell_type": "code",
      "metadata": {
        "id": "Spy0krTg1NUo"
      },
      "source": [
        "class Decoder(nn.Module):\r\n",
        "    def __init__(self, output_dim, emb_dim, hid_dim, dropout):\r\n",
        "        super().__init__()\r\n",
        "\r\n",
        "        self.hid_dim = hid_dim\r\n",
        "        self.output_dim = output_dim\r\n",
        "        \r\n",
        "        self.embedding = nn.Embedding(output_dim, emb_dim)\r\n",
        "        \r\n",
        "        self.rnn = nn.GRU(emb_dim + hid_dim, hid_dim)\r\n",
        "        \r\n",
        "        self.fc_out = nn.Linear(emb_dim + hid_dim * 2, output_dim)\r\n",
        "        \r\n",
        "        self.dropout = nn.Dropout(dropout)\r\n",
        "        \r\n",
        "    def forward(self, input, hidden, context):\r\n",
        "        \r\n",
        "        #input = [batch size]\r\n",
        "        #hidden = [n layers * n directions, batch size, hid dim]\r\n",
        "        #context = [n layers * n directions, batch size, hid dim]\r\n",
        "        \r\n",
        "        #n layers and n directions in the decoder will both always be 1, therefore:\r\n",
        "        #hidden = [1, batch size, hid dim]\r\n",
        "        #context = [1, batch size, hid dim]\r\n",
        "        \r\n",
        "        input = input.unsqueeze(0)\r\n",
        "        \r\n",
        "        #input = [1, batch size]\r\n",
        "        \r\n",
        "        embedded = self.dropout(self.embedding(input))\r\n",
        "        \r\n",
        "        #embedded = [1, batch size, emb dim]\r\n",
        "                \r\n",
        "        emb_con = torch.cat((embedded, context), dim = 2)\r\n",
        "            \r\n",
        "        #emb_con = [1, batch size, emb dim + hid dim]\r\n",
        "            \r\n",
        "        output, hidden = self.rnn(emb_con, hidden)\r\n",
        "        \r\n",
        "        #output = [seq len, batch size, hid dim * n directions]\r\n",
        "        #hidden = [n layers * n directions, batch size, hid dim]\r\n",
        "        \r\n",
        "        #seq len, n layers and n directions will always be 1 in the decoder, therefore:\r\n",
        "        #output = [1, batch size, hid dim]\r\n",
        "        #hidden = [1, batch size, hid dim]\r\n",
        "        \r\n",
        "        output = torch.cat((embedded.squeeze(0), hidden.squeeze(0), context.squeeze(0)), \r\n",
        "                           dim = 1)\r\n",
        "        \r\n",
        "        #output = [batch size, emb dim + hid dim * 2]\r\n",
        "        \r\n",
        "        prediction = self.fc_out(output)\r\n",
        "        \r\n",
        "        #prediction = [batch size, output dim]\r\n",
        "        \r\n",
        "        return prediction, hidden"
      ],
      "execution_count": 28,
      "outputs": []
    },
    {
      "cell_type": "markdown",
      "metadata": {
        "id": "MDA03_cM_QVp"
      },
      "source": [
        "## Seq2Seq Model\r\n",
        "\r\n",
        "Putting the encoder and decoder together, we get:\r\n",
        "\r\n",
        "![](https://github.com/bentrevett/pytorch-seq2seq/blob/master/assets/seq2seq7.png?raw=1)\r\n",
        "\r\n",
        "Again, in this implementation we need to ensure the hidden dimensions in both the encoder and the decoder are the same.\r\n",
        "\r\n",
        "Briefly going over all of the steps:\r\n",
        "- the `outputs` tensor is created to hold all predictions, $\\hat{Y}$\r\n",
        "- the source sequence, $X$, is fed into the encoder to receive a `context` vector\r\n",
        "- the initial decoder hidden state is set to be the `context` vector, $s_0 = z = h_T$\r\n",
        "- we use a batch of `<sos>` tokens as the first `input`, $y_1$\r\n",
        "- we then decode within a loop:\r\n",
        "  - inserting the input token $y_t$, previous hidden state, $s_{t-1}$, and the context vector, $z$, into the decoder\r\n",
        "  - receiving a prediction, $\\hat{y}_{t+1}$, and a new hidden state, $s_t$\r\n",
        "  - we then decide if we are going to teacher force or not, setting the next input as appropriate (either the ground truth next token in the target sequence or the highest predicted next token)"
      ]
    },
    {
      "cell_type": "code",
      "metadata": {
        "id": "hYeZdiaO1O5x"
      },
      "source": [
        "class Seq2Seq(nn.Module):\r\n",
        "    def __init__(self, encoder, decoder, device):\r\n",
        "        super().__init__()\r\n",
        "        \r\n",
        "        self.encoder = encoder\r\n",
        "        self.decoder = decoder\r\n",
        "        self.device = device\r\n",
        "        \r\n",
        "        assert encoder.hid_dim == decoder.hid_dim, \\\r\n",
        "            \"Hidden dimensions of encoder and decoder must be equal!\"\r\n",
        "        \r\n",
        "    def forward(self, src, trg, teacher_forcing_ratio = 0.5):\r\n",
        "        \r\n",
        "        #src = [src len, batch size]\r\n",
        "        #trg = [trg len, batch size]\r\n",
        "        #teacher_forcing_ratio is probability to use teacher forcing\r\n",
        "        #e.g. if teacher_forcing_ratio is 0.75 we use ground-truth inputs 75% of the time\r\n",
        "        \r\n",
        "        batch_size = trg.shape[1]\r\n",
        "        trg_len = trg.shape[0]\r\n",
        "        trg_vocab_size = self.decoder.output_dim\r\n",
        "        \r\n",
        "        #tensor to store decoder outputs\r\n",
        "        outputs = torch.zeros(trg_len, batch_size, trg_vocab_size).to(self.device)\r\n",
        "        \r\n",
        "        #last hidden state of the encoder is the context\r\n",
        "        context = self.encoder(src)\r\n",
        "        \r\n",
        "        #context also used as the initial hidden state of the decoder\r\n",
        "        hidden = context\r\n",
        "        \r\n",
        "        #first input to the decoder is the <sos> tokens\r\n",
        "        input = trg[0,:]\r\n",
        "        \r\n",
        "        for t in range(1, trg_len):\r\n",
        "            \r\n",
        "            #insert input token embedding, previous hidden state and the context state\r\n",
        "            #receive output tensor (predictions) and new hidden state\r\n",
        "            output, hidden = self.decoder(input, hidden, context)\r\n",
        "            \r\n",
        "            #place predictions in a tensor holding predictions for each token\r\n",
        "            outputs[t] = output\r\n",
        "            \r\n",
        "            #decide if we are going to use teacher forcing or not\r\n",
        "            teacher_force = random.random() < teacher_forcing_ratio\r\n",
        "            \r\n",
        "            #get the highest predicted token from our predictions\r\n",
        "            top1 = output.argmax(1) \r\n",
        "            \r\n",
        "            #if teacher forcing, use actual next token as next input\r\n",
        "            #if not, use predicted token\r\n",
        "            input = trg[t] if teacher_force else top1\r\n",
        "\r\n",
        "        return outputs"
      ],
      "execution_count": 29,
      "outputs": []
    },
    {
      "cell_type": "markdown",
      "metadata": {
        "id": "xMHSG524_WCr"
      },
      "source": [
        "# Training the Seq2Seq Model\r\n",
        "\r\n",
        "The rest of this session is very similar to the previous one. \r\n",
        "\r\n",
        "We initialise our encoder, decoder and seq2seq model (placing it on the GPU if we have one). As before, the embedding dimensions and the amount of dropout used can be different between the encoder and the decoder, but the hidden dimensions must remain the same."
      ]
    },
    {
      "cell_type": "code",
      "metadata": {
        "id": "ftEpd_4a1QmF"
      },
      "source": [
        "INPUT_DIM = len(SRC.vocab)\r\n",
        "OUTPUT_DIM = len(TRG.vocab)\r\n",
        "ENC_EMB_DIM = 256\r\n",
        "DEC_EMB_DIM = 256\r\n",
        "HID_DIM = 512\r\n",
        "ENC_DROPOUT = 0.5\r\n",
        "DEC_DROPOUT = 0.5\r\n",
        "\r\n",
        "enc = Encoder(INPUT_DIM, ENC_EMB_DIM, HID_DIM, ENC_DROPOUT)\r\n",
        "dec = Decoder(OUTPUT_DIM, DEC_EMB_DIM, HID_DIM, DEC_DROPOUT)\r\n",
        "\r\n",
        "device = torch.device('cuda' if torch.cuda.is_available() else 'cpu')\r\n",
        "\r\n",
        "model = Seq2Seq(enc, dec, device).to(device)"
      ],
      "execution_count": 30,
      "outputs": []
    },
    {
      "cell_type": "markdown",
      "metadata": {
        "id": "x8nTb43V_Zyo"
      },
      "source": [
        "Next, we initialize our parameters. The paper states the parameters are initialized from a normal distribution with a mean of 0 and a standard deviation of 0.01, i.e. $\\mathcal{N}(0, 0.01)$. \r\n",
        "\r\n",
        "It also states we should initialize the recurrent parameters to a special initialization, however to keep things simple we'll also initialize them to $\\mathcal{N}(0, 0.01)$."
      ]
    },
    {
      "cell_type": "code",
      "metadata": {
        "colab": {
          "base_uri": "https://localhost:8080/"
        },
        "id": "bMp_2W9S1SVR",
        "outputId": "b17aa7bb-6544-4e0f-8fa3-eb95e7662e6b"
      },
      "source": [
        "def init_weights(m):\r\n",
        "    for name, param in m.named_parameters():\r\n",
        "        nn.init.normal_(param.data, mean=0, std=0.01)\r\n",
        "        \r\n",
        "model.apply(init_weights)"
      ],
      "execution_count": 31,
      "outputs": [
        {
          "output_type": "execute_result",
          "data": {
            "text/plain": [
              "Seq2Seq(\n",
              "  (encoder): Encoder(\n",
              "    (embedding): Embedding(2235, 256)\n",
              "    (rnn): GRU(256, 512)\n",
              "    (dropout): Dropout(p=0.5, inplace=False)\n",
              "  )\n",
              "  (decoder): Decoder(\n",
              "    (embedding): Embedding(1471, 256)\n",
              "    (rnn): GRU(768, 512)\n",
              "    (fc_out): Linear(in_features=1280, out_features=1471, bias=True)\n",
              "    (dropout): Dropout(p=0.5, inplace=False)\n",
              "  )\n",
              ")"
            ]
          },
          "metadata": {
            "tags": []
          },
          "execution_count": 31
        }
      ]
    },
    {
      "cell_type": "markdown",
      "metadata": {
        "id": "x5_2i7Dk_fdz"
      },
      "source": [
        "We print out the number of parameters.\r\n",
        "\r\n",
        "Even though we only have a single layer RNN for our encoder and decoder we actually have **more** parameters  than the last model. This is due to the increased size of the inputs to the GRU and the linear layer. However, it is not a significant amount of parameters and causes a minimal amount of increase in training time (~3 seconds per epoch extra)."
      ]
    },
    {
      "cell_type": "code",
      "metadata": {
        "colab": {
          "base_uri": "https://localhost:8080/"
        },
        "id": "Enkgnath1Tt3",
        "outputId": "26492b84-7055-4ebb-b8c4-a9b3c0976e07"
      },
      "source": [
        "def count_parameters(model):\r\n",
        "    return sum(p.numel() for p in model.parameters() if p.requires_grad)\r\n",
        "\r\n",
        "print(f'The model has {count_parameters(model):,} trainable parameters')"
      ],
      "execution_count": 32,
      "outputs": [
        {
          "output_type": "stream",
          "text": [
            "The model has 5,984,959 trainable parameters\n"
          ],
          "name": "stdout"
        }
      ]
    },
    {
      "cell_type": "markdown",
      "metadata": {
        "id": "VH3WH5Lh_mPO"
      },
      "source": [
        "We initiaize our optimizer."
      ]
    },
    {
      "cell_type": "code",
      "metadata": {
        "id": "CUoyH79C1W7L"
      },
      "source": [
        "optimizer = optim.Adam(model.parameters())"
      ],
      "execution_count": 33,
      "outputs": []
    },
    {
      "cell_type": "markdown",
      "metadata": {
        "id": "Khbcq7R4_p-w"
      },
      "source": [
        "We also initialize the loss function, making sure to ignore the loss on `<pad>` tokens."
      ]
    },
    {
      "cell_type": "code",
      "metadata": {
        "id": "XFiHkSJC1YWm"
      },
      "source": [
        "TRG_PAD_IDX = TRG.vocab.stoi[TRG.pad_token]\r\n",
        "\r\n",
        "criterion = nn.CrossEntropyLoss(ignore_index = TRG_PAD_IDX)"
      ],
      "execution_count": 34,
      "outputs": []
    },
    {
      "cell_type": "markdown",
      "metadata": {
        "id": "6tuZ-o3l_xKO"
      },
      "source": [
        "We then create the training loop..."
      ]
    },
    {
      "cell_type": "code",
      "metadata": {
        "id": "4GeuBp3t1ZiB"
      },
      "source": [
        "def train(model, iterator, optimizer, criterion, clip):\r\n",
        "    \r\n",
        "    model.train()\r\n",
        "    \r\n",
        "    epoch_loss = 0\r\n",
        "    \r\n",
        "    for i, batch in enumerate(iterator):\r\n",
        "        \r\n",
        "        src = batch.Question\r\n",
        "        trg = batch.Answer\r\n",
        "        \r\n",
        "        optimizer.zero_grad()\r\n",
        "        \r\n",
        "        output = model(src, trg)\r\n",
        "        \r\n",
        "        #trg = [trg len, batch size]\r\n",
        "        #output = [trg len, batch size, output dim]\r\n",
        "        \r\n",
        "        output_dim = output.shape[-1]\r\n",
        "        \r\n",
        "        output = output[1:].view(-1, output_dim)\r\n",
        "        trg = trg[1:].view(-1)\r\n",
        "        \r\n",
        "        #trg = [(trg len - 1) * batch size]\r\n",
        "        #output = [(trg len - 1) * batch size, output dim]\r\n",
        "        \r\n",
        "        loss = criterion(output, trg)\r\n",
        "        \r\n",
        "        loss.backward()\r\n",
        "        \r\n",
        "        torch.nn.utils.clip_grad_norm_(model.parameters(), clip)\r\n",
        "        \r\n",
        "        optimizer.step()\r\n",
        "        \r\n",
        "        epoch_loss += loss.item()\r\n",
        "        \r\n",
        "    return epoch_loss / len(iterator)"
      ],
      "execution_count": 35,
      "outputs": []
    },
    {
      "cell_type": "markdown",
      "metadata": {
        "id": "3OMTod0P_2I9"
      },
      "source": [
        "...and the evaluation loop, remembering to set the model to eval mode and turn off teaching forcing."
      ]
    },
    {
      "cell_type": "code",
      "metadata": {
        "id": "u3z3OEyq1byl"
      },
      "source": [
        "def evaluate(model, iterator, criterion):\r\n",
        "    \r\n",
        "    model.eval()\r\n",
        "    \r\n",
        "    epoch_loss = 0\r\n",
        "    \r\n",
        "    with torch.no_grad():\r\n",
        "    \r\n",
        "        for i, batch in enumerate(iterator):\r\n",
        "\r\n",
        "            src = batch.Question\r\n",
        "            trg = batch.Answer\r\n",
        "\r\n",
        "            output = model(src, trg, 0) #turn off teacher forcing\r\n",
        "\r\n",
        "            #trg = [trg len, batch size]\r\n",
        "            #output = [trg len, batch size, output dim]\r\n",
        "\r\n",
        "            output_dim = output.shape[-1]\r\n",
        "            \r\n",
        "            output = output[1:].view(-1, output_dim)\r\n",
        "            trg = trg[1:].view(-1)\r\n",
        "\r\n",
        "            #trg = [(trg len - 1) * batch size]\r\n",
        "            #output = [(trg len - 1) * batch size, output dim]\r\n",
        "\r\n",
        "            loss = criterion(output, trg)\r\n",
        "\r\n",
        "            epoch_loss += loss.item()\r\n",
        "        \r\n",
        "    return epoch_loss / len(iterator)"
      ],
      "execution_count": 36,
      "outputs": []
    },
    {
      "cell_type": "markdown",
      "metadata": {
        "id": "UjycjEXz_6h4"
      },
      "source": [
        "We'll also define the function that calculates how long an epoch takes."
      ]
    },
    {
      "cell_type": "code",
      "metadata": {
        "id": "GkH2vb6z1drm"
      },
      "source": [
        "def epoch_time(start_time, end_time):\r\n",
        "    elapsed_time = end_time - start_time\r\n",
        "    elapsed_mins = int(elapsed_time / 60)\r\n",
        "    elapsed_secs = int(elapsed_time - (elapsed_mins * 60))\r\n",
        "    return elapsed_mins, elapsed_secs"
      ],
      "execution_count": 37,
      "outputs": []
    },
    {
      "cell_type": "markdown",
      "metadata": {
        "id": "DuTL4wYQ_8-W"
      },
      "source": [
        "Then, we train our model, saving the parameters that give us the best validation loss."
      ]
    },
    {
      "cell_type": "code",
      "metadata": {
        "colab": {
          "base_uri": "https://localhost:8080/"
        },
        "id": "fGldAX9N1e_8",
        "outputId": "f608e398-c968-4267-85f8-b6c655387a23"
      },
      "source": [
        "N_EPOCHS = 10\r\n",
        "CLIP = 1\r\n",
        "\r\n",
        "best_valid_loss = float('inf')\r\n",
        "\r\n",
        "for epoch in range(N_EPOCHS):\r\n",
        "    \r\n",
        "    start_time = time.time()\r\n",
        "    \r\n",
        "    train_loss = train(model, train_iterator, optimizer, criterion, CLIP)\r\n",
        "    valid_loss = evaluate(model, valid_iterator, criterion)\r\n",
        "    \r\n",
        "    end_time = time.time()\r\n",
        "    \r\n",
        "    epoch_mins, epoch_secs = epoch_time(start_time, end_time)\r\n",
        "    \r\n",
        "    if valid_loss < best_valid_loss:\r\n",
        "        best_valid_loss = valid_loss\r\n",
        "        torch.save(model.state_dict(), 'tut2-model.pt')\r\n",
        "    \r\n",
        "    print(f'Epoch: {epoch+1:02} | Time: {epoch_mins}m {epoch_secs}s')\r\n",
        "    print(f'\\tTrain Loss: {train_loss:.3f} | Train PPL: {math.exp(train_loss):7.3f}')\r\n",
        "    print(f'\\t Val. Loss: {valid_loss:.3f} |  Val. PPL: {math.exp(valid_loss):7.3f}')"
      ],
      "execution_count": 38,
      "outputs": [
        {
          "output_type": "stream",
          "text": [
            "Epoch: 01 | Time: 0m 8s\n",
            "\tTrain Loss: 5.300 | Train PPL: 200.255\n",
            "\t Val. Loss: 3.949 |  Val. PPL:  51.906\n",
            "Epoch: 02 | Time: 0m 8s\n",
            "\tTrain Loss: 4.460 | Train PPL:  86.499\n",
            "\t Val. Loss: 3.865 |  Val. PPL:  47.695\n",
            "Epoch: 03 | Time: 0m 8s\n",
            "\tTrain Loss: 4.321 | Train PPL:  75.290\n",
            "\t Val. Loss: 3.885 |  Val. PPL:  48.668\n",
            "Epoch: 04 | Time: 0m 8s\n",
            "\tTrain Loss: 4.214 | Train PPL:  67.643\n",
            "\t Val. Loss: 3.854 |  Val. PPL:  47.181\n",
            "Epoch: 05 | Time: 0m 8s\n",
            "\tTrain Loss: 4.126 | Train PPL:  61.919\n",
            "\t Val. Loss: 3.851 |  Val. PPL:  47.062\n",
            "Epoch: 06 | Time: 0m 8s\n",
            "\tTrain Loss: 4.025 | Train PPL:  56.007\n",
            "\t Val. Loss: 3.764 |  Val. PPL:  43.140\n",
            "Epoch: 07 | Time: 0m 8s\n",
            "\tTrain Loss: 3.829 | Train PPL:  46.034\n",
            "\t Val. Loss: 3.732 |  Val. PPL:  41.763\n",
            "Epoch: 08 | Time: 0m 8s\n",
            "\tTrain Loss: 3.735 | Train PPL:  41.906\n",
            "\t Val. Loss: 3.695 |  Val. PPL:  40.249\n",
            "Epoch: 09 | Time: 0m 8s\n",
            "\tTrain Loss: 3.633 | Train PPL:  37.811\n",
            "\t Val. Loss: 3.756 |  Val. PPL:  42.766\n",
            "Epoch: 10 | Time: 0m 8s\n",
            "\tTrain Loss: 3.506 | Train PPL:  33.305\n",
            "\t Val. Loss: 3.762 |  Val. PPL:  43.016\n"
          ],
          "name": "stdout"
        }
      ]
    },
    {
      "cell_type": "markdown",
      "metadata": {
        "id": "yTCrvQ3-ADUe"
      },
      "source": [
        "Finally, we test the model on the test set using these \"best\" parameters."
      ]
    },
    {
      "cell_type": "code",
      "metadata": {
        "colab": {
          "base_uri": "https://localhost:8080/"
        },
        "id": "0wODowUY1hHo",
        "outputId": "bdbb62b8-4784-43c0-8309-31131e9a8239"
      },
      "source": [
        "model.load_state_dict(torch.load('tut2-model.pt'))\r\n",
        "\r\n",
        "test_loss = evaluate(model, test_iterator, criterion)\r\n",
        "\r\n",
        "print(f'| Test Loss: {test_loss:.3f} | Test PPL: {math.exp(test_loss):7.3f} |')"
      ],
      "execution_count": 39,
      "outputs": [
        {
          "output_type": "execute_result",
          "data": {
            "text/plain": [
              "<All keys matched successfully>"
            ]
          },
          "metadata": {
            "tags": []
          },
          "execution_count": 39
        },
        {
          "output_type": "stream",
          "text": [
            "| Test Loss: 3.649 | Test PPL:  38.453 |\n"
          ],
          "name": "stdout"
        }
      ]
    },
    {
      "cell_type": "markdown",
      "metadata": {
        "id": "2kZXSc5SAGiG"
      },
      "source": [
        "Just looking at the test loss, we get better performance. This is a pretty good sign that this model architecture is doing something right! Relieving the information compression seems like the way forward"
      ]
    }
  ]
}